{
  "nbformat": 4,
  "nbformat_minor": 0,
  "metadata": {
    "colab": {
      "name": "idea_LB.ipynb",
      "provenance": [],
      "collapsed_sections": [
        "6GCsPeSwvOY8",
        "IJLabsBbvgIu",
        "6bm52MgDgRLv"
      ],
      "mount_file_id": "1ZmLe7W85Z5b8Ujepq2bjG_v6r7spq7tM",
      "authorship_tag": "ABX9TyOrNvm3nClHztT98qIy0y20"
    },
    "kernelspec": {
      "name": "python3",
      "display_name": "Python 3"
    },
    "widgets": {
      "application/vnd.jupyter.widget-state+json": {
        "bf02642f49b14a1c9cbe3a469f1d1a56": {
          "model_module": "@jupyter-widgets/controls",
          "model_name": "HBoxModel",
          "state": {
            "_view_name": "HBoxView",
            "_dom_classes": [],
            "_model_name": "HBoxModel",
            "_view_module": "@jupyter-widgets/controls",
            "_model_module_version": "1.5.0",
            "_view_count": null,
            "_view_module_version": "1.5.0",
            "box_style": "",
            "layout": "IPY_MODEL_e7567fb1420447408b62eda28be44df4",
            "_model_module": "@jupyter-widgets/controls",
            "children": [
              "IPY_MODEL_0a3c9f6dda67420ba5a340b202ef6645",
              "IPY_MODEL_314c104b0bdf4326b3228cc3284b3c65"
            ]
          }
        },
        "e7567fb1420447408b62eda28be44df4": {
          "model_module": "@jupyter-widgets/base",
          "model_name": "LayoutModel",
          "state": {
            "_view_name": "LayoutView",
            "grid_template_rows": null,
            "right": null,
            "justify_content": null,
            "_view_module": "@jupyter-widgets/base",
            "overflow": null,
            "_model_module_version": "1.2.0",
            "_view_count": null,
            "flex_flow": null,
            "width": null,
            "min_width": null,
            "border": null,
            "align_items": null,
            "bottom": null,
            "_model_module": "@jupyter-widgets/base",
            "top": null,
            "grid_column": null,
            "overflow_y": null,
            "overflow_x": null,
            "grid_auto_flow": null,
            "grid_area": null,
            "grid_template_columns": null,
            "flex": null,
            "_model_name": "LayoutModel",
            "justify_items": null,
            "grid_row": null,
            "max_height": null,
            "align_content": null,
            "visibility": null,
            "align_self": null,
            "height": null,
            "min_height": null,
            "padding": null,
            "grid_auto_rows": null,
            "grid_gap": null,
            "max_width": null,
            "order": null,
            "_view_module_version": "1.2.0",
            "grid_template_areas": null,
            "object_position": null,
            "object_fit": null,
            "grid_auto_columns": null,
            "margin": null,
            "display": null,
            "left": null
          }
        },
        "0a3c9f6dda67420ba5a340b202ef6645": {
          "model_module": "@jupyter-widgets/controls",
          "model_name": "FloatProgressModel",
          "state": {
            "_view_name": "ProgressView",
            "style": "IPY_MODEL_9dfe7c9372134677941d12bc1fdd1a46",
            "_dom_classes": [],
            "description": "100%",
            "_model_name": "FloatProgressModel",
            "bar_style": "success",
            "max": 240000,
            "_view_module": "@jupyter-widgets/controls",
            "_model_module_version": "1.5.0",
            "value": 240000,
            "_view_count": null,
            "_view_module_version": "1.5.0",
            "orientation": "horizontal",
            "min": 0,
            "description_tooltip": null,
            "_model_module": "@jupyter-widgets/controls",
            "layout": "IPY_MODEL_cc10ccd326f14c8a9a6f300bbf311556"
          }
        },
        "314c104b0bdf4326b3228cc3284b3c65": {
          "model_module": "@jupyter-widgets/controls",
          "model_name": "HTMLModel",
          "state": {
            "_view_name": "HTMLView",
            "style": "IPY_MODEL_a1e1d5749a8445d09377b480bc403694",
            "_dom_classes": [],
            "description": "",
            "_model_name": "HTMLModel",
            "placeholder": "​",
            "_view_module": "@jupyter-widgets/controls",
            "_model_module_version": "1.5.0",
            "value": " 240000/240000 [22:11&lt;00:00, 180.30it/s]",
            "_view_count": null,
            "_view_module_version": "1.5.0",
            "description_tooltip": null,
            "_model_module": "@jupyter-widgets/controls",
            "layout": "IPY_MODEL_baffe12e2c014dc189a8720aa67c50ad"
          }
        },
        "9dfe7c9372134677941d12bc1fdd1a46": {
          "model_module": "@jupyter-widgets/controls",
          "model_name": "ProgressStyleModel",
          "state": {
            "_view_name": "StyleView",
            "_model_name": "ProgressStyleModel",
            "description_width": "initial",
            "_view_module": "@jupyter-widgets/base",
            "_model_module_version": "1.5.0",
            "_view_count": null,
            "_view_module_version": "1.2.0",
            "bar_color": null,
            "_model_module": "@jupyter-widgets/controls"
          }
        },
        "cc10ccd326f14c8a9a6f300bbf311556": {
          "model_module": "@jupyter-widgets/base",
          "model_name": "LayoutModel",
          "state": {
            "_view_name": "LayoutView",
            "grid_template_rows": null,
            "right": null,
            "justify_content": null,
            "_view_module": "@jupyter-widgets/base",
            "overflow": null,
            "_model_module_version": "1.2.0",
            "_view_count": null,
            "flex_flow": null,
            "width": null,
            "min_width": null,
            "border": null,
            "align_items": null,
            "bottom": null,
            "_model_module": "@jupyter-widgets/base",
            "top": null,
            "grid_column": null,
            "overflow_y": null,
            "overflow_x": null,
            "grid_auto_flow": null,
            "grid_area": null,
            "grid_template_columns": null,
            "flex": null,
            "_model_name": "LayoutModel",
            "justify_items": null,
            "grid_row": null,
            "max_height": null,
            "align_content": null,
            "visibility": null,
            "align_self": null,
            "height": null,
            "min_height": null,
            "padding": null,
            "grid_auto_rows": null,
            "grid_gap": null,
            "max_width": null,
            "order": null,
            "_view_module_version": "1.2.0",
            "grid_template_areas": null,
            "object_position": null,
            "object_fit": null,
            "grid_auto_columns": null,
            "margin": null,
            "display": null,
            "left": null
          }
        },
        "a1e1d5749a8445d09377b480bc403694": {
          "model_module": "@jupyter-widgets/controls",
          "model_name": "DescriptionStyleModel",
          "state": {
            "_view_name": "StyleView",
            "_model_name": "DescriptionStyleModel",
            "description_width": "",
            "_view_module": "@jupyter-widgets/base",
            "_model_module_version": "1.5.0",
            "_view_count": null,
            "_view_module_version": "1.2.0",
            "_model_module": "@jupyter-widgets/controls"
          }
        },
        "baffe12e2c014dc189a8720aa67c50ad": {
          "model_module": "@jupyter-widgets/base",
          "model_name": "LayoutModel",
          "state": {
            "_view_name": "LayoutView",
            "grid_template_rows": null,
            "right": null,
            "justify_content": null,
            "_view_module": "@jupyter-widgets/base",
            "overflow": null,
            "_model_module_version": "1.2.0",
            "_view_count": null,
            "flex_flow": null,
            "width": null,
            "min_width": null,
            "border": null,
            "align_items": null,
            "bottom": null,
            "_model_module": "@jupyter-widgets/base",
            "top": null,
            "grid_column": null,
            "overflow_y": null,
            "overflow_x": null,
            "grid_auto_flow": null,
            "grid_area": null,
            "grid_template_columns": null,
            "flex": null,
            "_model_name": "LayoutModel",
            "justify_items": null,
            "grid_row": null,
            "max_height": null,
            "align_content": null,
            "visibility": null,
            "align_self": null,
            "height": null,
            "min_height": null,
            "padding": null,
            "grid_auto_rows": null,
            "grid_gap": null,
            "max_width": null,
            "order": null,
            "_view_module_version": "1.2.0",
            "grid_template_areas": null,
            "object_position": null,
            "object_fit": null,
            "grid_auto_columns": null,
            "margin": null,
            "display": null,
            "left": null
          }
        },
        "76473aea859b484f88561fcaee96f441": {
          "model_module": "@jupyter-widgets/controls",
          "model_name": "HBoxModel",
          "state": {
            "_view_name": "HBoxView",
            "_dom_classes": [],
            "_model_name": "HBoxModel",
            "_view_module": "@jupyter-widgets/controls",
            "_model_module_version": "1.5.0",
            "_view_count": null,
            "_view_module_version": "1.5.0",
            "box_style": "",
            "layout": "IPY_MODEL_204fb4fa53bf435a99f81be89f1ecdb6",
            "_model_module": "@jupyter-widgets/controls",
            "children": [
              "IPY_MODEL_4e73390deeca49429b89c895e8dcd523",
              "IPY_MODEL_d05760e61671429c83413a1c2818997c"
            ]
          }
        },
        "204fb4fa53bf435a99f81be89f1ecdb6": {
          "model_module": "@jupyter-widgets/base",
          "model_name": "LayoutModel",
          "state": {
            "_view_name": "LayoutView",
            "grid_template_rows": null,
            "right": null,
            "justify_content": null,
            "_view_module": "@jupyter-widgets/base",
            "overflow": null,
            "_model_module_version": "1.2.0",
            "_view_count": null,
            "flex_flow": null,
            "width": null,
            "min_width": null,
            "border": null,
            "align_items": null,
            "bottom": null,
            "_model_module": "@jupyter-widgets/base",
            "top": null,
            "grid_column": null,
            "overflow_y": null,
            "overflow_x": null,
            "grid_auto_flow": null,
            "grid_area": null,
            "grid_template_columns": null,
            "flex": null,
            "_model_name": "LayoutModel",
            "justify_items": null,
            "grid_row": null,
            "max_height": null,
            "align_content": null,
            "visibility": null,
            "align_self": null,
            "height": null,
            "min_height": null,
            "padding": null,
            "grid_auto_rows": null,
            "grid_gap": null,
            "max_width": null,
            "order": null,
            "_view_module_version": "1.2.0",
            "grid_template_areas": null,
            "object_position": null,
            "object_fit": null,
            "grid_auto_columns": null,
            "margin": null,
            "display": null,
            "left": null
          }
        },
        "4e73390deeca49429b89c895e8dcd523": {
          "model_module": "@jupyter-widgets/controls",
          "model_name": "FloatProgressModel",
          "state": {
            "_view_name": "ProgressView",
            "style": "IPY_MODEL_11cf6b933515440d947d72cd316c08bf",
            "_dom_classes": [],
            "description": "100%",
            "_model_name": "FloatProgressModel",
            "bar_style": "success",
            "max": 240000,
            "_view_module": "@jupyter-widgets/controls",
            "_model_module_version": "1.5.0",
            "value": 240000,
            "_view_count": null,
            "_view_module_version": "1.5.0",
            "orientation": "horizontal",
            "min": 0,
            "description_tooltip": null,
            "_model_module": "@jupyter-widgets/controls",
            "layout": "IPY_MODEL_42b88958ab634415ab8864a927e2ef3e"
          }
        },
        "d05760e61671429c83413a1c2818997c": {
          "model_module": "@jupyter-widgets/controls",
          "model_name": "HTMLModel",
          "state": {
            "_view_name": "HTMLView",
            "style": "IPY_MODEL_151b35c895c94f7f9971fc9df73dabdc",
            "_dom_classes": [],
            "description": "",
            "_model_name": "HTMLModel",
            "placeholder": "​",
            "_view_module": "@jupyter-widgets/controls",
            "_model_module_version": "1.5.0",
            "value": " 240000/240000 [28:34&lt;00:00, 139.99it/s]",
            "_view_count": null,
            "_view_module_version": "1.5.0",
            "description_tooltip": null,
            "_model_module": "@jupyter-widgets/controls",
            "layout": "IPY_MODEL_4410b11122c7496592e79087a1d1a785"
          }
        },
        "11cf6b933515440d947d72cd316c08bf": {
          "model_module": "@jupyter-widgets/controls",
          "model_name": "ProgressStyleModel",
          "state": {
            "_view_name": "StyleView",
            "_model_name": "ProgressStyleModel",
            "description_width": "initial",
            "_view_module": "@jupyter-widgets/base",
            "_model_module_version": "1.5.0",
            "_view_count": null,
            "_view_module_version": "1.2.0",
            "bar_color": null,
            "_model_module": "@jupyter-widgets/controls"
          }
        },
        "42b88958ab634415ab8864a927e2ef3e": {
          "model_module": "@jupyter-widgets/base",
          "model_name": "LayoutModel",
          "state": {
            "_view_name": "LayoutView",
            "grid_template_rows": null,
            "right": null,
            "justify_content": null,
            "_view_module": "@jupyter-widgets/base",
            "overflow": null,
            "_model_module_version": "1.2.0",
            "_view_count": null,
            "flex_flow": null,
            "width": null,
            "min_width": null,
            "border": null,
            "align_items": null,
            "bottom": null,
            "_model_module": "@jupyter-widgets/base",
            "top": null,
            "grid_column": null,
            "overflow_y": null,
            "overflow_x": null,
            "grid_auto_flow": null,
            "grid_area": null,
            "grid_template_columns": null,
            "flex": null,
            "_model_name": "LayoutModel",
            "justify_items": null,
            "grid_row": null,
            "max_height": null,
            "align_content": null,
            "visibility": null,
            "align_self": null,
            "height": null,
            "min_height": null,
            "padding": null,
            "grid_auto_rows": null,
            "grid_gap": null,
            "max_width": null,
            "order": null,
            "_view_module_version": "1.2.0",
            "grid_template_areas": null,
            "object_position": null,
            "object_fit": null,
            "grid_auto_columns": null,
            "margin": null,
            "display": null,
            "left": null
          }
        },
        "151b35c895c94f7f9971fc9df73dabdc": {
          "model_module": "@jupyter-widgets/controls",
          "model_name": "DescriptionStyleModel",
          "state": {
            "_view_name": "StyleView",
            "_model_name": "DescriptionStyleModel",
            "description_width": "",
            "_view_module": "@jupyter-widgets/base",
            "_model_module_version": "1.5.0",
            "_view_count": null,
            "_view_module_version": "1.2.0",
            "_model_module": "@jupyter-widgets/controls"
          }
        },
        "4410b11122c7496592e79087a1d1a785": {
          "model_module": "@jupyter-widgets/base",
          "model_name": "LayoutModel",
          "state": {
            "_view_name": "LayoutView",
            "grid_template_rows": null,
            "right": null,
            "justify_content": null,
            "_view_module": "@jupyter-widgets/base",
            "overflow": null,
            "_model_module_version": "1.2.0",
            "_view_count": null,
            "flex_flow": null,
            "width": null,
            "min_width": null,
            "border": null,
            "align_items": null,
            "bottom": null,
            "_model_module": "@jupyter-widgets/base",
            "top": null,
            "grid_column": null,
            "overflow_y": null,
            "overflow_x": null,
            "grid_auto_flow": null,
            "grid_area": null,
            "grid_template_columns": null,
            "flex": null,
            "_model_name": "LayoutModel",
            "justify_items": null,
            "grid_row": null,
            "max_height": null,
            "align_content": null,
            "visibility": null,
            "align_self": null,
            "height": null,
            "min_height": null,
            "padding": null,
            "grid_auto_rows": null,
            "grid_gap": null,
            "max_width": null,
            "order": null,
            "_view_module_version": "1.2.0",
            "grid_template_areas": null,
            "object_position": null,
            "object_fit": null,
            "grid_auto_columns": null,
            "margin": null,
            "display": null,
            "left": null
          }
        },
        "ce751920cda34b249f3ea4add562095d": {
          "model_module": "@jupyter-widgets/controls",
          "model_name": "HBoxModel",
          "state": {
            "_view_name": "HBoxView",
            "_dom_classes": [],
            "_model_name": "HBoxModel",
            "_view_module": "@jupyter-widgets/controls",
            "_model_module_version": "1.5.0",
            "_view_count": null,
            "_view_module_version": "1.5.0",
            "box_style": "",
            "layout": "IPY_MODEL_159359bbaccb428fa435a3811d59f247",
            "_model_module": "@jupyter-widgets/controls",
            "children": [
              "IPY_MODEL_f956564459d448578b62182553fdc579",
              "IPY_MODEL_cd9f90c3afdd469e98720f5301429fe2"
            ]
          }
        },
        "159359bbaccb428fa435a3811d59f247": {
          "model_module": "@jupyter-widgets/base",
          "model_name": "LayoutModel",
          "state": {
            "_view_name": "LayoutView",
            "grid_template_rows": null,
            "right": null,
            "justify_content": null,
            "_view_module": "@jupyter-widgets/base",
            "overflow": null,
            "_model_module_version": "1.2.0",
            "_view_count": null,
            "flex_flow": null,
            "width": null,
            "min_width": null,
            "border": null,
            "align_items": null,
            "bottom": null,
            "_model_module": "@jupyter-widgets/base",
            "top": null,
            "grid_column": null,
            "overflow_y": null,
            "overflow_x": null,
            "grid_auto_flow": null,
            "grid_area": null,
            "grid_template_columns": null,
            "flex": null,
            "_model_name": "LayoutModel",
            "justify_items": null,
            "grid_row": null,
            "max_height": null,
            "align_content": null,
            "visibility": null,
            "align_self": null,
            "height": null,
            "min_height": null,
            "padding": null,
            "grid_auto_rows": null,
            "grid_gap": null,
            "max_width": null,
            "order": null,
            "_view_module_version": "1.2.0",
            "grid_template_areas": null,
            "object_position": null,
            "object_fit": null,
            "grid_auto_columns": null,
            "margin": null,
            "display": null,
            "left": null
          }
        },
        "f956564459d448578b62182553fdc579": {
          "model_module": "@jupyter-widgets/controls",
          "model_name": "FloatProgressModel",
          "state": {
            "_view_name": "ProgressView",
            "style": "IPY_MODEL_3863819ac93f490a9ca2a518afa12d7c",
            "_dom_classes": [],
            "description": "100%",
            "_model_name": "FloatProgressModel",
            "bar_style": "success",
            "max": 240000,
            "_view_module": "@jupyter-widgets/controls",
            "_model_module_version": "1.5.0",
            "value": 240000,
            "_view_count": null,
            "_view_module_version": "1.5.0",
            "orientation": "horizontal",
            "min": 0,
            "description_tooltip": null,
            "_model_module": "@jupyter-widgets/controls",
            "layout": "IPY_MODEL_4a519acb61fb4746a9e0f47ed400d75c"
          }
        },
        "cd9f90c3afdd469e98720f5301429fe2": {
          "model_module": "@jupyter-widgets/controls",
          "model_name": "HTMLModel",
          "state": {
            "_view_name": "HTMLView",
            "style": "IPY_MODEL_9328533190b54c80867681b65571493b",
            "_dom_classes": [],
            "description": "",
            "_model_name": "HTMLModel",
            "placeholder": "​",
            "_view_module": "@jupyter-widgets/controls",
            "_model_module_version": "1.5.0",
            "value": " 240000/240000 [27:44&lt;00:00, 144.20it/s]",
            "_view_count": null,
            "_view_module_version": "1.5.0",
            "description_tooltip": null,
            "_model_module": "@jupyter-widgets/controls",
            "layout": "IPY_MODEL_f48ae4fc375d403c848a92dfcb0383ab"
          }
        },
        "3863819ac93f490a9ca2a518afa12d7c": {
          "model_module": "@jupyter-widgets/controls",
          "model_name": "ProgressStyleModel",
          "state": {
            "_view_name": "StyleView",
            "_model_name": "ProgressStyleModel",
            "description_width": "initial",
            "_view_module": "@jupyter-widgets/base",
            "_model_module_version": "1.5.0",
            "_view_count": null,
            "_view_module_version": "1.2.0",
            "bar_color": null,
            "_model_module": "@jupyter-widgets/controls"
          }
        },
        "4a519acb61fb4746a9e0f47ed400d75c": {
          "model_module": "@jupyter-widgets/base",
          "model_name": "LayoutModel",
          "state": {
            "_view_name": "LayoutView",
            "grid_template_rows": null,
            "right": null,
            "justify_content": null,
            "_view_module": "@jupyter-widgets/base",
            "overflow": null,
            "_model_module_version": "1.2.0",
            "_view_count": null,
            "flex_flow": null,
            "width": null,
            "min_width": null,
            "border": null,
            "align_items": null,
            "bottom": null,
            "_model_module": "@jupyter-widgets/base",
            "top": null,
            "grid_column": null,
            "overflow_y": null,
            "overflow_x": null,
            "grid_auto_flow": null,
            "grid_area": null,
            "grid_template_columns": null,
            "flex": null,
            "_model_name": "LayoutModel",
            "justify_items": null,
            "grid_row": null,
            "max_height": null,
            "align_content": null,
            "visibility": null,
            "align_self": null,
            "height": null,
            "min_height": null,
            "padding": null,
            "grid_auto_rows": null,
            "grid_gap": null,
            "max_width": null,
            "order": null,
            "_view_module_version": "1.2.0",
            "grid_template_areas": null,
            "object_position": null,
            "object_fit": null,
            "grid_auto_columns": null,
            "margin": null,
            "display": null,
            "left": null
          }
        },
        "9328533190b54c80867681b65571493b": {
          "model_module": "@jupyter-widgets/controls",
          "model_name": "DescriptionStyleModel",
          "state": {
            "_view_name": "StyleView",
            "_model_name": "DescriptionStyleModel",
            "description_width": "",
            "_view_module": "@jupyter-widgets/base",
            "_model_module_version": "1.5.0",
            "_view_count": null,
            "_view_module_version": "1.2.0",
            "_model_module": "@jupyter-widgets/controls"
          }
        },
        "f48ae4fc375d403c848a92dfcb0383ab": {
          "model_module": "@jupyter-widgets/base",
          "model_name": "LayoutModel",
          "state": {
            "_view_name": "LayoutView",
            "grid_template_rows": null,
            "right": null,
            "justify_content": null,
            "_view_module": "@jupyter-widgets/base",
            "overflow": null,
            "_model_module_version": "1.2.0",
            "_view_count": null,
            "flex_flow": null,
            "width": null,
            "min_width": null,
            "border": null,
            "align_items": null,
            "bottom": null,
            "_model_module": "@jupyter-widgets/base",
            "top": null,
            "grid_column": null,
            "overflow_y": null,
            "overflow_x": null,
            "grid_auto_flow": null,
            "grid_area": null,
            "grid_template_columns": null,
            "flex": null,
            "_model_name": "LayoutModel",
            "justify_items": null,
            "grid_row": null,
            "max_height": null,
            "align_content": null,
            "visibility": null,
            "align_self": null,
            "height": null,
            "min_height": null,
            "padding": null,
            "grid_auto_rows": null,
            "grid_gap": null,
            "max_width": null,
            "order": null,
            "_view_module_version": "1.2.0",
            "grid_template_areas": null,
            "object_position": null,
            "object_fit": null,
            "grid_auto_columns": null,
            "margin": null,
            "display": null,
            "left": null
          }
        },
        "dcf50571b6064ea6b0eb6f35d978b877": {
          "model_module": "@jupyter-widgets/controls",
          "model_name": "HBoxModel",
          "state": {
            "_view_name": "HBoxView",
            "_dom_classes": [],
            "_model_name": "HBoxModel",
            "_view_module": "@jupyter-widgets/controls",
            "_model_module_version": "1.5.0",
            "_view_count": null,
            "_view_module_version": "1.5.0",
            "box_style": "",
            "layout": "IPY_MODEL_1f642d937751457a9370a1e799bc2f5a",
            "_model_module": "@jupyter-widgets/controls",
            "children": [
              "IPY_MODEL_847ec63ec275437ea196540d287044b0",
              "IPY_MODEL_2fa307382aff4326a9ff64de697c0980"
            ]
          }
        },
        "1f642d937751457a9370a1e799bc2f5a": {
          "model_module": "@jupyter-widgets/base",
          "model_name": "LayoutModel",
          "state": {
            "_view_name": "LayoutView",
            "grid_template_rows": null,
            "right": null,
            "justify_content": null,
            "_view_module": "@jupyter-widgets/base",
            "overflow": null,
            "_model_module_version": "1.2.0",
            "_view_count": null,
            "flex_flow": null,
            "width": null,
            "min_width": null,
            "border": null,
            "align_items": null,
            "bottom": null,
            "_model_module": "@jupyter-widgets/base",
            "top": null,
            "grid_column": null,
            "overflow_y": null,
            "overflow_x": null,
            "grid_auto_flow": null,
            "grid_area": null,
            "grid_template_columns": null,
            "flex": null,
            "_model_name": "LayoutModel",
            "justify_items": null,
            "grid_row": null,
            "max_height": null,
            "align_content": null,
            "visibility": null,
            "align_self": null,
            "height": null,
            "min_height": null,
            "padding": null,
            "grid_auto_rows": null,
            "grid_gap": null,
            "max_width": null,
            "order": null,
            "_view_module_version": "1.2.0",
            "grid_template_areas": null,
            "object_position": null,
            "object_fit": null,
            "grid_auto_columns": null,
            "margin": null,
            "display": null,
            "left": null
          }
        },
        "847ec63ec275437ea196540d287044b0": {
          "model_module": "@jupyter-widgets/controls",
          "model_name": "FloatProgressModel",
          "state": {
            "_view_name": "ProgressView",
            "style": "IPY_MODEL_47849371e72a4b829dad8a06a1ce8f0e",
            "_dom_classes": [],
            "description": "100%",
            "_model_name": "FloatProgressModel",
            "bar_style": "success",
            "max": 240000,
            "_view_module": "@jupyter-widgets/controls",
            "_model_module_version": "1.5.0",
            "value": 240000,
            "_view_count": null,
            "_view_module_version": "1.5.0",
            "orientation": "horizontal",
            "min": 0,
            "description_tooltip": null,
            "_model_module": "@jupyter-widgets/controls",
            "layout": "IPY_MODEL_a2dee79932cf41c1ba7be9aa6b639a14"
          }
        },
        "2fa307382aff4326a9ff64de697c0980": {
          "model_module": "@jupyter-widgets/controls",
          "model_name": "HTMLModel",
          "state": {
            "_view_name": "HTMLView",
            "style": "IPY_MODEL_4e3e0f0e105a4ca9beda64a7f831cb39",
            "_dom_classes": [],
            "description": "",
            "_model_name": "HTMLModel",
            "placeholder": "​",
            "_view_module": "@jupyter-widgets/controls",
            "_model_module_version": "1.5.0",
            "value": " 240000/240000 [27:22&lt;00:00, 146.15it/s]",
            "_view_count": null,
            "_view_module_version": "1.5.0",
            "description_tooltip": null,
            "_model_module": "@jupyter-widgets/controls",
            "layout": "IPY_MODEL_a6dfe1f9f8044a4f9ac8612c59fbec48"
          }
        },
        "47849371e72a4b829dad8a06a1ce8f0e": {
          "model_module": "@jupyter-widgets/controls",
          "model_name": "ProgressStyleModel",
          "state": {
            "_view_name": "StyleView",
            "_model_name": "ProgressStyleModel",
            "description_width": "initial",
            "_view_module": "@jupyter-widgets/base",
            "_model_module_version": "1.5.0",
            "_view_count": null,
            "_view_module_version": "1.2.0",
            "bar_color": null,
            "_model_module": "@jupyter-widgets/controls"
          }
        },
        "a2dee79932cf41c1ba7be9aa6b639a14": {
          "model_module": "@jupyter-widgets/base",
          "model_name": "LayoutModel",
          "state": {
            "_view_name": "LayoutView",
            "grid_template_rows": null,
            "right": null,
            "justify_content": null,
            "_view_module": "@jupyter-widgets/base",
            "overflow": null,
            "_model_module_version": "1.2.0",
            "_view_count": null,
            "flex_flow": null,
            "width": null,
            "min_width": null,
            "border": null,
            "align_items": null,
            "bottom": null,
            "_model_module": "@jupyter-widgets/base",
            "top": null,
            "grid_column": null,
            "overflow_y": null,
            "overflow_x": null,
            "grid_auto_flow": null,
            "grid_area": null,
            "grid_template_columns": null,
            "flex": null,
            "_model_name": "LayoutModel",
            "justify_items": null,
            "grid_row": null,
            "max_height": null,
            "align_content": null,
            "visibility": null,
            "align_self": null,
            "height": null,
            "min_height": null,
            "padding": null,
            "grid_auto_rows": null,
            "grid_gap": null,
            "max_width": null,
            "order": null,
            "_view_module_version": "1.2.0",
            "grid_template_areas": null,
            "object_position": null,
            "object_fit": null,
            "grid_auto_columns": null,
            "margin": null,
            "display": null,
            "left": null
          }
        },
        "4e3e0f0e105a4ca9beda64a7f831cb39": {
          "model_module": "@jupyter-widgets/controls",
          "model_name": "DescriptionStyleModel",
          "state": {
            "_view_name": "StyleView",
            "_model_name": "DescriptionStyleModel",
            "description_width": "",
            "_view_module": "@jupyter-widgets/base",
            "_model_module_version": "1.5.0",
            "_view_count": null,
            "_view_module_version": "1.2.0",
            "_model_module": "@jupyter-widgets/controls"
          }
        },
        "a6dfe1f9f8044a4f9ac8612c59fbec48": {
          "model_module": "@jupyter-widgets/base",
          "model_name": "LayoutModel",
          "state": {
            "_view_name": "LayoutView",
            "grid_template_rows": null,
            "right": null,
            "justify_content": null,
            "_view_module": "@jupyter-widgets/base",
            "overflow": null,
            "_model_module_version": "1.2.0",
            "_view_count": null,
            "flex_flow": null,
            "width": null,
            "min_width": null,
            "border": null,
            "align_items": null,
            "bottom": null,
            "_model_module": "@jupyter-widgets/base",
            "top": null,
            "grid_column": null,
            "overflow_y": null,
            "overflow_x": null,
            "grid_auto_flow": null,
            "grid_area": null,
            "grid_template_columns": null,
            "flex": null,
            "_model_name": "LayoutModel",
            "justify_items": null,
            "grid_row": null,
            "max_height": null,
            "align_content": null,
            "visibility": null,
            "align_self": null,
            "height": null,
            "min_height": null,
            "padding": null,
            "grid_auto_rows": null,
            "grid_gap": null,
            "max_width": null,
            "order": null,
            "_view_module_version": "1.2.0",
            "grid_template_areas": null,
            "object_position": null,
            "object_fit": null,
            "grid_auto_columns": null,
            "margin": null,
            "display": null,
            "left": null
          }
        }
      }
    }
  },
  "cells": [
    {
      "cell_type": "code",
      "metadata": {
        "id": "XyC5EJMVQNXa",
        "colab": {
          "base_uri": "https://localhost:8080/"
        },
        "outputId": "f3b1f162-103d-4df3-bf70-f79973c51574"
      },
      "source": [
        "!pip install catboost"
      ],
      "execution_count": null,
      "outputs": [
        {
          "output_type": "stream",
          "text": [
            "Collecting catboost\n",
            "\u001b[?25l  Downloading https://files.pythonhosted.org/packages/52/39/128fff65072c8327371e3c594f3c826d29c85b21cb6485980353b168e0e4/catboost-0.24.2-cp36-none-manylinux1_x86_64.whl (66.1MB)\n",
            "\u001b[K     |████████████████████████████████| 66.2MB 52kB/s \n",
            "\u001b[?25hRequirement already satisfied: matplotlib in /usr/local/lib/python3.6/dist-packages (from catboost) (3.2.2)\n",
            "Requirement already satisfied: numpy>=1.16.0 in /usr/local/lib/python3.6/dist-packages (from catboost) (1.18.5)\n",
            "Requirement already satisfied: scipy in /usr/local/lib/python3.6/dist-packages (from catboost) (1.4.1)\n",
            "Requirement already satisfied: pandas>=0.24.0 in /usr/local/lib/python3.6/dist-packages (from catboost) (1.1.3)\n",
            "Requirement already satisfied: graphviz in /usr/local/lib/python3.6/dist-packages (from catboost) (0.10.1)\n",
            "Requirement already satisfied: six in /usr/local/lib/python3.6/dist-packages (from catboost) (1.15.0)\n",
            "Requirement already satisfied: plotly in /usr/local/lib/python3.6/dist-packages (from catboost) (4.4.1)\n",
            "Requirement already satisfied: python-dateutil>=2.1 in /usr/local/lib/python3.6/dist-packages (from matplotlib->catboost) (2.8.1)\n",
            "Requirement already satisfied: kiwisolver>=1.0.1 in /usr/local/lib/python3.6/dist-packages (from matplotlib->catboost) (1.2.0)\n",
            "Requirement already satisfied: cycler>=0.10 in /usr/local/lib/python3.6/dist-packages (from matplotlib->catboost) (0.10.0)\n",
            "Requirement already satisfied: pyparsing!=2.0.4,!=2.1.2,!=2.1.6,>=2.0.1 in /usr/local/lib/python3.6/dist-packages (from matplotlib->catboost) (2.4.7)\n",
            "Requirement already satisfied: pytz>=2017.2 in /usr/local/lib/python3.6/dist-packages (from pandas>=0.24.0->catboost) (2018.9)\n",
            "Requirement already satisfied: retrying>=1.3.3 in /usr/local/lib/python3.6/dist-packages (from plotly->catboost) (1.3.3)\n",
            "Installing collected packages: catboost\n",
            "Successfully installed catboost-0.24.2\n"
          ],
          "name": "stdout"
        }
      ]
    },
    {
      "cell_type": "code",
      "metadata": {
        "id": "ae8HydR37rvJ"
      },
      "source": [
        "import os\n",
        "import scipy\n",
        "import sklearn\n",
        "import matplotlib\n",
        "# from tqdm import tqdm, trange\n",
        "from tqdm import tqdm_notebook as tqdm\n",
        "import numpy as np\n",
        "import pandas as pd\n",
        "import matplotlib.pyplot as plt\n",
        "from collections import Counter\n",
        "#dataset\n",
        "from sklearn import datasets\n",
        "#fold\n",
        "from sklearn.model_selection import KFold\n",
        "from sklearn.model_selection import StratifiedKFold\n",
        "from sklearn.model_selection import GroupKFold\n",
        "#\n",
        "from sklearn.tree import DecisionTreeClassifier, DecisionTreeRegressor\n",
        "# this is our global size of label text\n",
        "# on the plots\n",
        "matplotlib.rc('xtick', labelsize=20)\n",
        "matplotlib.rc('ytick', labelsize=20)\n",
        "SEED =13\n",
        "from IPython.display import display, HTML, Image\n",
        "PATH = '/content/drive/My Drive/Encode_Challenge/data/project_1'"
      ],
      "execution_count": null,
      "outputs": []
    },
    {
      "cell_type": "markdown",
      "metadata": {
        "id": "rIeQJK09_Dju"
      },
      "source": [
        "## Categorical Features Encoding Challenge from Kaggle"
      ]
    },
    {
      "cell_type": "code",
      "metadata": {
        "id": "s8Mf8npjP5yy",
        "colab": {
          "base_uri": "https://localhost:8080/",
          "height": 258
        },
        "outputId": "3ba3ec65-311c-4042-ac59-aa049e7549c9"
      },
      "source": [
        "df = pd.read_csv(os.path.join(PATH, 'train.csv'))\n",
        "df.head()"
      ],
      "execution_count": null,
      "outputs": [
        {
          "output_type": "execute_result",
          "data": {
            "text/html": [
              "<div>\n",
              "<style scoped>\n",
              "    .dataframe tbody tr th:only-of-type {\n",
              "        vertical-align: middle;\n",
              "    }\n",
              "\n",
              "    .dataframe tbody tr th {\n",
              "        vertical-align: top;\n",
              "    }\n",
              "\n",
              "    .dataframe thead th {\n",
              "        text-align: right;\n",
              "    }\n",
              "</style>\n",
              "<table border=\"1\" class=\"dataframe\">\n",
              "  <thead>\n",
              "    <tr style=\"text-align: right;\">\n",
              "      <th></th>\n",
              "      <th>id</th>\n",
              "      <th>bin_0</th>\n",
              "      <th>bin_1</th>\n",
              "      <th>bin_2</th>\n",
              "      <th>bin_3</th>\n",
              "      <th>bin_4</th>\n",
              "      <th>nom_0</th>\n",
              "      <th>nom_1</th>\n",
              "      <th>nom_2</th>\n",
              "      <th>nom_3</th>\n",
              "      <th>nom_4</th>\n",
              "      <th>nom_5</th>\n",
              "      <th>nom_6</th>\n",
              "      <th>nom_7</th>\n",
              "      <th>nom_8</th>\n",
              "      <th>nom_9</th>\n",
              "      <th>ord_0</th>\n",
              "      <th>ord_1</th>\n",
              "      <th>ord_2</th>\n",
              "      <th>ord_3</th>\n",
              "      <th>ord_4</th>\n",
              "      <th>ord_5</th>\n",
              "      <th>day</th>\n",
              "      <th>month</th>\n",
              "      <th>target</th>\n",
              "    </tr>\n",
              "  </thead>\n",
              "  <tbody>\n",
              "    <tr>\n",
              "      <th>0</th>\n",
              "      <td>0</td>\n",
              "      <td>0</td>\n",
              "      <td>0</td>\n",
              "      <td>0</td>\n",
              "      <td>T</td>\n",
              "      <td>Y</td>\n",
              "      <td>Green</td>\n",
              "      <td>Triangle</td>\n",
              "      <td>Snake</td>\n",
              "      <td>Finland</td>\n",
              "      <td>Bassoon</td>\n",
              "      <td>50f116bcf</td>\n",
              "      <td>3ac1b8814</td>\n",
              "      <td>68f6ad3e9</td>\n",
              "      <td>c389000ab</td>\n",
              "      <td>2f4cb3d51</td>\n",
              "      <td>2</td>\n",
              "      <td>Grandmaster</td>\n",
              "      <td>Cold</td>\n",
              "      <td>h</td>\n",
              "      <td>D</td>\n",
              "      <td>kr</td>\n",
              "      <td>2</td>\n",
              "      <td>2</td>\n",
              "      <td>0</td>\n",
              "    </tr>\n",
              "    <tr>\n",
              "      <th>1</th>\n",
              "      <td>1</td>\n",
              "      <td>0</td>\n",
              "      <td>1</td>\n",
              "      <td>0</td>\n",
              "      <td>T</td>\n",
              "      <td>Y</td>\n",
              "      <td>Green</td>\n",
              "      <td>Trapezoid</td>\n",
              "      <td>Hamster</td>\n",
              "      <td>Russia</td>\n",
              "      <td>Piano</td>\n",
              "      <td>b3b4d25d0</td>\n",
              "      <td>fbcb50fc1</td>\n",
              "      <td>3b6dd5612</td>\n",
              "      <td>4cd920251</td>\n",
              "      <td>f83c56c21</td>\n",
              "      <td>1</td>\n",
              "      <td>Grandmaster</td>\n",
              "      <td>Hot</td>\n",
              "      <td>a</td>\n",
              "      <td>A</td>\n",
              "      <td>bF</td>\n",
              "      <td>7</td>\n",
              "      <td>8</td>\n",
              "      <td>0</td>\n",
              "    </tr>\n",
              "    <tr>\n",
              "      <th>2</th>\n",
              "      <td>2</td>\n",
              "      <td>0</td>\n",
              "      <td>0</td>\n",
              "      <td>0</td>\n",
              "      <td>F</td>\n",
              "      <td>Y</td>\n",
              "      <td>Blue</td>\n",
              "      <td>Trapezoid</td>\n",
              "      <td>Lion</td>\n",
              "      <td>Russia</td>\n",
              "      <td>Theremin</td>\n",
              "      <td>3263bdce5</td>\n",
              "      <td>0922e3cb8</td>\n",
              "      <td>a6a36f527</td>\n",
              "      <td>de9c9f684</td>\n",
              "      <td>ae6800dd0</td>\n",
              "      <td>1</td>\n",
              "      <td>Expert</td>\n",
              "      <td>Lava Hot</td>\n",
              "      <td>h</td>\n",
              "      <td>R</td>\n",
              "      <td>Jc</td>\n",
              "      <td>7</td>\n",
              "      <td>2</td>\n",
              "      <td>0</td>\n",
              "    </tr>\n",
              "    <tr>\n",
              "      <th>3</th>\n",
              "      <td>3</td>\n",
              "      <td>0</td>\n",
              "      <td>1</td>\n",
              "      <td>0</td>\n",
              "      <td>F</td>\n",
              "      <td>Y</td>\n",
              "      <td>Red</td>\n",
              "      <td>Trapezoid</td>\n",
              "      <td>Snake</td>\n",
              "      <td>Canada</td>\n",
              "      <td>Oboe</td>\n",
              "      <td>f12246592</td>\n",
              "      <td>50d7ad46a</td>\n",
              "      <td>ec69236eb</td>\n",
              "      <td>4ade6ab69</td>\n",
              "      <td>8270f0d71</td>\n",
              "      <td>1</td>\n",
              "      <td>Grandmaster</td>\n",
              "      <td>Boiling Hot</td>\n",
              "      <td>i</td>\n",
              "      <td>D</td>\n",
              "      <td>kW</td>\n",
              "      <td>2</td>\n",
              "      <td>1</td>\n",
              "      <td>1</td>\n",
              "    </tr>\n",
              "    <tr>\n",
              "      <th>4</th>\n",
              "      <td>4</td>\n",
              "      <td>0</td>\n",
              "      <td>0</td>\n",
              "      <td>0</td>\n",
              "      <td>F</td>\n",
              "      <td>N</td>\n",
              "      <td>Red</td>\n",
              "      <td>Trapezoid</td>\n",
              "      <td>Lion</td>\n",
              "      <td>Canada</td>\n",
              "      <td>Oboe</td>\n",
              "      <td>5b0f5acd5</td>\n",
              "      <td>1fe17a1fd</td>\n",
              "      <td>04ddac2be</td>\n",
              "      <td>cb43ab175</td>\n",
              "      <td>b164b72a7</td>\n",
              "      <td>1</td>\n",
              "      <td>Grandmaster</td>\n",
              "      <td>Freezing</td>\n",
              "      <td>a</td>\n",
              "      <td>R</td>\n",
              "      <td>qP</td>\n",
              "      <td>7</td>\n",
              "      <td>8</td>\n",
              "      <td>0</td>\n",
              "    </tr>\n",
              "  </tbody>\n",
              "</table>\n",
              "</div>"
            ],
            "text/plain": [
              "   id  bin_0  bin_1  bin_2 bin_3 bin_4  ... ord_3 ord_4 ord_5 day month target\n",
              "0   0      0      0      0     T     Y  ...     h     D    kr   2     2      0\n",
              "1   1      0      1      0     T     Y  ...     a     A    bF   7     8      0\n",
              "2   2      0      0      0     F     Y  ...     h     R    Jc   7     2      0\n",
              "3   3      0      1      0     F     Y  ...     i     D    kW   2     1      1\n",
              "4   4      0      0      0     F     N  ...     a     R    qP   7     8      0\n",
              "\n",
              "[5 rows x 25 columns]"
            ]
          },
          "metadata": {
            "tags": []
          },
          "execution_count": 6
        }
      ]
    },
    {
      "cell_type": "markdown",
      "metadata": {
        "id": "998RElznBDxL"
      },
      "source": [
        "The dataset consists of all kinds of categorical variables:\n",
        "- Nominal\n",
        "- Ordinal\n",
        "- Cyclical\n",
        "- Binary"
      ]
    },
    {
      "cell_type": "code",
      "metadata": {
        "id": "h-dyxROHP53j",
        "colab": {
          "base_uri": "https://localhost:8080/",
          "height": 291
        },
        "outputId": "21bd0e5b-bd24-4a55-d75e-42ec27999c14"
      },
      "source": [
        "df.target.hist()"
      ],
      "execution_count": null,
      "outputs": [
        {
          "output_type": "execute_result",
          "data": {
            "text/plain": [
              "<matplotlib.axes._subplots.AxesSubplot at 0x7fa29c1596d8>"
            ]
          },
          "metadata": {
            "tags": []
          },
          "execution_count": 211
        },
        {
          "output_type": "display_data",
          "data": {
            "image/png": "[encoded data removed]",
            "text/plain": [
              "<Figure size 432x288 with 1 Axes>"
            ]
          },
          "metadata": {
            "tags": [],
            "needs_background": "light"
          }
        }
      ]
    },
    {
      "cell_type": "markdown",
      "metadata": {
        "id": "6GCsPeSwvOY8"
      },
      "source": [
        "### label encode by hands"
      ]
    },
    {
      "cell_type": "code",
      "metadata": {
        "id": "kVdqkNDIP55y",
        "colab": {
          "base_uri": "https://localhost:8080/",
          "height": 136
        },
        "outputId": "0571cca5-b1b9-478f-8fac-78c3839223b7"
      },
      "source": [
        "mapping = {\n",
        "\"Freezing\": 0,\n",
        "\"Warm\": 1,\n",
        "\"Cold\": 2,\n",
        "\"Boiling Hot\": 3,\n",
        "\"Hot\": 4,\n",
        "\"Lava Hot\": 5\n",
        "}\n",
        "\n",
        "df.loc[:, 'ord_2'] = df.ord_2.map(mapping)\n",
        "df.ord_2.value_counts()"
      ],
      "execution_count": null,
      "outputs": [
        {
          "output_type": "execute_result",
          "data": {
            "text/plain": [
              "0    99816\n",
              "5    63908\n",
              "3    60627\n",
              "2    33768\n",
              "4    22227\n",
              "1    19654\n",
              "Name: ord_2, dtype: int64"
            ]
          },
          "metadata": {
            "tags": []
          },
          "execution_count": 212
        }
      ]
    },
    {
      "cell_type": "markdown",
      "metadata": {
        "id": "IJLabsBbvgIu"
      },
      "source": [
        "### lbEncode by sklearn"
      ]
    },
    {
      "cell_type": "code",
      "metadata": {
        "id": "c1XHwfDkP577",
        "colab": {
          "base_uri": "https://localhost:8080/",
          "height": 136
        },
        "outputId": "97f17f33-c31a-41c2-b94d-c0cd1ad0024c"
      },
      "source": [
        "lb = sklearn.preprocessing.LabelEncoder()\n",
        "df.loc[:, 'ord_2'] = lb.fit_transform(df.loc[:, 'ord_2'])\n",
        "df.ord_2.value_counts()"
      ],
      "execution_count": null,
      "outputs": [
        {
          "output_type": "execute_result",
          "data": {
            "text/plain": [
              "2    99816\n",
              "4    63908\n",
              "0    60627\n",
              "1    33768\n",
              "3    22227\n",
              "5    19654\n",
              "Name: ord_2, dtype: int64"
            ]
          },
          "metadata": {
            "tags": []
          },
          "execution_count": 218
        }
      ]
    },
    {
      "cell_type": "code",
      "metadata": {
        "id": "6i1g9kCDxGxz"
      },
      "source": [
        "def lbe(train : pd.DataFrame,  test : pd.DataFrame) -> pd.DataFrame:\n",
        "  \"\"\"\n",
        "  label encode for all data, and we need check NAN\n",
        "  train / test : DFrame \n",
        "\n",
        "  Merge data, check nan in data after label encode\n",
        "\n",
        "  return train, test\n",
        "  \"\"\"\n",
        "  test_col = test.columns\n",
        "  test.loc[:, 'target'] = -1\n",
        "  col_encode = [c for c in train.columns if c not in [\"id\", \"target\"]]\n",
        "  \n",
        "  if all(train.columns == test.columns) is False:\n",
        "    raise Exception('train and test columns is different')\n",
        "  #merge data\n",
        "  data = pd.concat([train, test]).reset_index(drop=True)\n",
        "  #check NAN\n",
        "  for col in col_encode:\n",
        "    lb = sklearn.preprocessing.LabelEncoder()\n",
        "    temp_col = data[col].fillna('NONE').astype(str).values\n",
        "    data.loc[:, col] = lb.fit_transform(temp_col)\n",
        "  \n",
        "  train = data[data.target != -1].reset_index(drop=True)\n",
        "  test = data[data.target == -1].reset_index(drop=True)\n",
        "  return train, test[test_col]\n",
        "\n",
        "\n",
        "# train = pd.read_csv(os.path.join(PATH, 'train.csv'))\n",
        "# test = pd.read_csv(os.path.join(PATH, 'test.csv'))\n",
        "# tr, te = lbe(train, test)"
      ],
      "execution_count": null,
      "outputs": []
    },
    {
      "cell_type": "markdown",
      "metadata": {
        "id": "eO7G32Kwvrb5"
      },
      "source": [
        "### csr_matrix"
      ]
    },
    {
      "cell_type": "code",
      "metadata": {
        "id": "nl3rrsWso1UR",
        "colab": {
          "base_uri": "https://localhost:8080/",
          "height": 51
        },
        "outputId": "341b8ba2-48ec-4e2a-f5ca-88fc91bb33c6"
      },
      "source": [
        "a = np.array([\n",
        "          [0,0,1],\n",
        "          [1,0,0],\n",
        "          [1,0,1]\n",
        "])\n",
        "print(a.nbytes) # 3*3*8\n",
        "\n",
        "a_sparse = scipy.sparse.csr_matrix(a)\n",
        "print(a_sparse.data.nbytes)"
      ],
      "execution_count": null,
      "outputs": [
        {
          "output_type": "stream",
          "text": [
            "72\n",
            "32\n"
          ],
          "name": "stdout"
        }
      ]
    },
    {
      "cell_type": "code",
      "metadata": {
        "id": "rhqy71yaO6D5",
        "colab": {
          "base_uri": "https://localhost:8080/",
          "height": 34
        },
        "outputId": "4223038f-40fd-4e4f-fd0f-ef3d507f125c"
      },
      "source": [
        "a = np.random.randint(1000, size = 100000)\n",
        "a = a.reshape(-1, 1)\n",
        "oh = sklearn.preprocessing.OneHotEncoder(sparse=False)\n",
        "a_nosparse = oh.fit_transform(a)\n",
        "oh = sklearn.preprocessing.OneHotEncoder(sparse=True)\n",
        "a_sparse = oh.fit_transform(a)\n",
        "print(\n",
        "    a_nosparse.nbytes,\n",
        "    a_sparse.data.nbytes + a_sparse.indptr.nbytes + a_sparse.indices.nbytes\n",
        ")"
      ],
      "execution_count": null,
      "outputs": [
        {
          "output_type": "stream",
          "text": [
            "800000000 1600004\n"
          ],
          "name": "stdout"
        }
      ]
    },
    {
      "cell_type": "markdown",
      "metadata": {
        "id": "GHZRzRt5vtz5"
      },
      "source": [
        "### very simple example features"
      ]
    },
    {
      "cell_type": "code",
      "metadata": {
        "id": "5kBzQ_rRo1sh",
        "colab": {
          "base_uri": "https://localhost:8080/",
          "height": 136
        },
        "outputId": "f4401d2a-d97a-4a44-b7ca-e97f2c322a10"
      },
      "source": [
        "df.ord_2.value_counts()"
      ],
      "execution_count": null,
      "outputs": [
        {
          "output_type": "execute_result",
          "data": {
            "text/plain": [
              "Freezing       99816\n",
              "Lava Hot       63908\n",
              "Boiling Hot    60627\n",
              "Cold           33768\n",
              "Hot            22227\n",
              "Warm           19654\n",
              "Name: ord_2, dtype: int64"
            ]
          },
          "metadata": {
            "tags": []
          },
          "execution_count": 233
        }
      ]
    },
    {
      "cell_type": "code",
      "metadata": {
        "id": "bY1runowo1sH",
        "colab": {
          "base_uri": "https://localhost:8080/",
          "height": 153
        },
        "outputId": "eb4cf9f8-3e0e-4343-e2a7-c4dd09229439"
      },
      "source": [
        "df.groupby([\"ord_2\"])[\"id\"].count()"
      ],
      "execution_count": null,
      "outputs": [
        {
          "output_type": "execute_result",
          "data": {
            "text/plain": [
              "ord_2\n",
              "Boiling Hot    60627\n",
              "Cold           33768\n",
              "Freezing       99816\n",
              "Hot            22227\n",
              "Lava Hot       63908\n",
              "Warm           19654\n",
              "Name: id, dtype: int64"
            ]
          },
          "metadata": {
            "tags": []
          },
          "execution_count": 234
        }
      ]
    },
    {
      "cell_type": "markdown",
      "metadata": {
        "id": "cZ_dbMHPZA16"
      },
      "source": [
        "If we simply replace the ord_2 column with its counter values, we convert it to a feature that is now numeric. We can create a new column or replace it with column using pandas transform function along with groupby."
      ]
    },
    {
      "cell_type": "code",
      "metadata": {
        "id": "SC9DHxuio1rq",
        "colab": {
          "base_uri": "https://localhost:8080/",
          "height": 221
        },
        "outputId": "c59d61a1-4be4-4e06-d8b4-5be5a779f604"
      },
      "source": [
        "df.groupby([\"ord_2\"])[\"id\"].transform('count')"
      ],
      "execution_count": null,
      "outputs": [
        {
          "output_type": "execute_result",
          "data": {
            "text/plain": [
              "0         33768\n",
              "1         22227\n",
              "2         63908\n",
              "3         60627\n",
              "4         99816\n",
              "          ...  \n",
              "299995    99816\n",
              "299996    99816\n",
              "299997    60627\n",
              "299998    60627\n",
              "299999    99816\n",
              "Name: id, Length: 300000, dtype: int64"
            ]
          },
          "metadata": {
            "tags": []
          },
          "execution_count": 237
        }
      ]
    },
    {
      "cell_type": "markdown",
      "metadata": {
        "id": "prT1FB9maEEW"
      },
      "source": [
        "https://stackoverflow.com/questions/27517425/apply-vs-transform-on-a-group-object\n",
        "\n",
        "Two major differences between apply and transform\n",
        "There are two major differences between the transform and apply groupby methods.\n",
        "\n",
        "Input:\n",
        "- apply implicitly passes all the columns for each group as a DataFrame to the custom function.\n",
        "- while transform passes each column for each group individually as a Series to the custom function.\n",
        "\n",
        "Output:\n",
        "\n",
        "- The custom function passed to apply can return a scalar, or a Series or DataFrame (or numpy array or even list).\n",
        "- The custom function passed to transform must return a sequence (a one dimensional Series, array or list) the same length as the group.\n",
        "\n",
        "So, transform works on just one Series at a time and apply works on the entire DataFrame at once.\n",
        "\n"
      ]
    },
    {
      "cell_type": "code",
      "metadata": {
        "id": "klHCzjMkgHi3",
        "colab": {
          "base_uri": "https://localhost:8080/",
          "height": 979
        },
        "outputId": "a6776d60-f6a6-43ae-d3bc-9ebce922c4e8"
      },
      "source": [
        "df.groupby([\"ord_1\", \"ord_2\"])[\"id\"].count().reset_index(name=\"count\")"
      ],
      "execution_count": null,
      "outputs": [
        {
          "output_type": "execute_result",
          "data": {
            "text/html": [
              "<div>\n",
              "<style scoped>\n",
              "    .dataframe tbody tr th:only-of-type {\n",
              "        vertical-align: middle;\n",
              "    }\n",
              "\n",
              "    .dataframe tbody tr th {\n",
              "        vertical-align: top;\n",
              "    }\n",
              "\n",
              "    .dataframe thead th {\n",
              "        text-align: right;\n",
              "    }\n",
              "</style>\n",
              "<table border=\"1\" class=\"dataframe\">\n",
              "  <thead>\n",
              "    <tr style=\"text-align: right;\">\n",
              "      <th></th>\n",
              "      <th>ord_1</th>\n",
              "      <th>ord_2</th>\n",
              "      <th>count</th>\n",
              "    </tr>\n",
              "  </thead>\n",
              "  <tbody>\n",
              "    <tr>\n",
              "      <th>0</th>\n",
              "      <td>Contributor</td>\n",
              "      <td>Boiling Hot</td>\n",
              "      <td>8692</td>\n",
              "    </tr>\n",
              "    <tr>\n",
              "      <th>1</th>\n",
              "      <td>Contributor</td>\n",
              "      <td>Cold</td>\n",
              "      <td>4842</td>\n",
              "    </tr>\n",
              "    <tr>\n",
              "      <th>2</th>\n",
              "      <td>Contributor</td>\n",
              "      <td>Freezing</td>\n",
              "      <td>14284</td>\n",
              "    </tr>\n",
              "    <tr>\n",
              "      <th>3</th>\n",
              "      <td>Contributor</td>\n",
              "      <td>Hot</td>\n",
              "      <td>3122</td>\n",
              "    </tr>\n",
              "    <tr>\n",
              "      <th>4</th>\n",
              "      <td>Contributor</td>\n",
              "      <td>Lava Hot</td>\n",
              "      <td>9074</td>\n",
              "    </tr>\n",
              "    <tr>\n",
              "      <th>5</th>\n",
              "      <td>Contributor</td>\n",
              "      <td>Warm</td>\n",
              "      <td>2857</td>\n",
              "    </tr>\n",
              "    <tr>\n",
              "      <th>6</th>\n",
              "      <td>Expert</td>\n",
              "      <td>Boiling Hot</td>\n",
              "      <td>4980</td>\n",
              "    </tr>\n",
              "    <tr>\n",
              "      <th>7</th>\n",
              "      <td>Expert</td>\n",
              "      <td>Cold</td>\n",
              "      <td>2850</td>\n",
              "    </tr>\n",
              "    <tr>\n",
              "      <th>8</th>\n",
              "      <td>Expert</td>\n",
              "      <td>Freezing</td>\n",
              "      <td>8432</td>\n",
              "    </tr>\n",
              "    <tr>\n",
              "      <th>9</th>\n",
              "      <td>Expert</td>\n",
              "      <td>Hot</td>\n",
              "      <td>1887</td>\n",
              "    </tr>\n",
              "    <tr>\n",
              "      <th>10</th>\n",
              "      <td>Expert</td>\n",
              "      <td>Lava Hot</td>\n",
              "      <td>5274</td>\n",
              "    </tr>\n",
              "    <tr>\n",
              "      <th>11</th>\n",
              "      <td>Expert</td>\n",
              "      <td>Warm</td>\n",
              "      <td>1642</td>\n",
              "    </tr>\n",
              "    <tr>\n",
              "      <th>12</th>\n",
              "      <td>Grandmaster</td>\n",
              "      <td>Boiling Hot</td>\n",
              "      <td>15719</td>\n",
              "    </tr>\n",
              "    <tr>\n",
              "      <th>13</th>\n",
              "      <td>Grandmaster</td>\n",
              "      <td>Cold</td>\n",
              "      <td>8702</td>\n",
              "    </tr>\n",
              "    <tr>\n",
              "      <th>14</th>\n",
              "      <td>Grandmaster</td>\n",
              "      <td>Freezing</td>\n",
              "      <td>25620</td>\n",
              "    </tr>\n",
              "    <tr>\n",
              "      <th>15</th>\n",
              "      <td>Grandmaster</td>\n",
              "      <td>Hot</td>\n",
              "      <td>5697</td>\n",
              "    </tr>\n",
              "    <tr>\n",
              "      <th>16</th>\n",
              "      <td>Grandmaster</td>\n",
              "      <td>Lava Hot</td>\n",
              "      <td>16617</td>\n",
              "    </tr>\n",
              "    <tr>\n",
              "      <th>17</th>\n",
              "      <td>Grandmaster</td>\n",
              "      <td>Warm</td>\n",
              "      <td>5073</td>\n",
              "    </tr>\n",
              "    <tr>\n",
              "      <th>18</th>\n",
              "      <td>Master</td>\n",
              "      <td>Boiling Hot</td>\n",
              "      <td>5720</td>\n",
              "    </tr>\n",
              "    <tr>\n",
              "      <th>19</th>\n",
              "      <td>Master</td>\n",
              "      <td>Cold</td>\n",
              "      <td>3129</td>\n",
              "    </tr>\n",
              "    <tr>\n",
              "      <th>20</th>\n",
              "      <td>Master</td>\n",
              "      <td>Freezing</td>\n",
              "      <td>9401</td>\n",
              "    </tr>\n",
              "    <tr>\n",
              "      <th>21</th>\n",
              "      <td>Master</td>\n",
              "      <td>Hot</td>\n",
              "      <td>2069</td>\n",
              "    </tr>\n",
              "    <tr>\n",
              "      <th>22</th>\n",
              "      <td>Master</td>\n",
              "      <td>Lava Hot</td>\n",
              "      <td>5882</td>\n",
              "    </tr>\n",
              "    <tr>\n",
              "      <th>23</th>\n",
              "      <td>Master</td>\n",
              "      <td>Warm</td>\n",
              "      <td>1852</td>\n",
              "    </tr>\n",
              "    <tr>\n",
              "      <th>24</th>\n",
              "      <td>Novice</td>\n",
              "      <td>Boiling Hot</td>\n",
              "      <td>25516</td>\n",
              "    </tr>\n",
              "    <tr>\n",
              "      <th>25</th>\n",
              "      <td>Novice</td>\n",
              "      <td>Cold</td>\n",
              "      <td>14245</td>\n",
              "    </tr>\n",
              "    <tr>\n",
              "      <th>26</th>\n",
              "      <td>Novice</td>\n",
              "      <td>Freezing</td>\n",
              "      <td>42079</td>\n",
              "    </tr>\n",
              "    <tr>\n",
              "      <th>27</th>\n",
              "      <td>Novice</td>\n",
              "      <td>Hot</td>\n",
              "      <td>9452</td>\n",
              "    </tr>\n",
              "    <tr>\n",
              "      <th>28</th>\n",
              "      <td>Novice</td>\n",
              "      <td>Lava Hot</td>\n",
              "      <td>27061</td>\n",
              "    </tr>\n",
              "    <tr>\n",
              "      <th>29</th>\n",
              "      <td>Novice</td>\n",
              "      <td>Warm</td>\n",
              "      <td>8230</td>\n",
              "    </tr>\n",
              "  </tbody>\n",
              "</table>\n",
              "</div>"
            ],
            "text/plain": [
              "          ord_1        ord_2  count\n",
              "0   Contributor  Boiling Hot   8692\n",
              "1   Contributor         Cold   4842\n",
              "2   Contributor     Freezing  14284\n",
              "3   Contributor          Hot   3122\n",
              "4   Contributor     Lava Hot   9074\n",
              "5   Contributor         Warm   2857\n",
              "6        Expert  Boiling Hot   4980\n",
              "7        Expert         Cold   2850\n",
              "8        Expert     Freezing   8432\n",
              "9        Expert          Hot   1887\n",
              "10       Expert     Lava Hot   5274\n",
              "11       Expert         Warm   1642\n",
              "12  Grandmaster  Boiling Hot  15719\n",
              "13  Grandmaster         Cold   8702\n",
              "14  Grandmaster     Freezing  25620\n",
              "15  Grandmaster          Hot   5697\n",
              "16  Grandmaster     Lava Hot  16617\n",
              "17  Grandmaster         Warm   5073\n",
              "18       Master  Boiling Hot   5720\n",
              "19       Master         Cold   3129\n",
              "20       Master     Freezing   9401\n",
              "21       Master          Hot   2069\n",
              "22       Master     Lava Hot   5882\n",
              "23       Master         Warm   1852\n",
              "24       Novice  Boiling Hot  25516\n",
              "25       Novice         Cold  14245\n",
              "26       Novice     Freezing  42079\n",
              "27       Novice          Hot   9452\n",
              "28       Novice     Lava Hot  27061\n",
              "29       Novice         Warm   8230"
            ]
          },
          "metadata": {
            "tags": []
          },
          "execution_count": 240
        }
      ]
    },
    {
      "cell_type": "markdown",
      "metadata": {
        "id": "71EnBsjai7hI"
      },
      "source": [
        "Another trick is to create new functions from these categorical variables. You can create new categorical functions from existing functions and this can be done in an easy way."
      ]
    },
    {
      "cell_type": "code",
      "metadata": {
        "id": "sKU_Jcr2gHoZ",
        "colab": {
          "base_uri": "https://localhost:8080/",
          "height": 221
        },
        "outputId": "382677ea-eae8-4de9-9409-e1fe07e1de55"
      },
      "source": [
        "df[\"new_feature\"] = (df.ord_1.astype(str)+ \"_\"+ df.ord_2.astype(str))\n",
        "df.new_feature"
      ],
      "execution_count": null,
      "outputs": [
        {
          "output_type": "execute_result",
          "data": {
            "text/plain": [
              "0                Grandmaster_Cold\n",
              "1                 Grandmaster_Hot\n",
              "2                 Expert_Lava Hot\n",
              "3         Grandmaster_Boiling Hot\n",
              "4            Grandmaster_Freezing\n",
              "                   ...           \n",
              "299995       Contributor_Freezing\n",
              "299996            Novice_Freezing\n",
              "299997         Novice_Boiling Hot\n",
              "299998         Master_Boiling Hot\n",
              "299999       Contributor_Freezing\n",
              "Name: new_feature, Length: 300000, dtype: object"
            ]
          },
          "metadata": {
            "tags": []
          },
          "execution_count": 241
        }
      ]
    },
    {
      "cell_type": "markdown",
      "metadata": {
        "id": "LsIQM5IyMp64"
      },
      "source": [
        "### StratifiedKFold"
      ]
    },
    {
      "cell_type": "code",
      "metadata": {
        "id": "_3Gxs06FgHam",
        "colab": {
          "base_uri": "https://localhost:8080/",
          "height": 156
        },
        "outputId": "524b0600-67f2-4a20-f346-08e9e4177550"
      },
      "source": [
        "df = pd.read_csv(os.path.join(PATH, 'train.csv'))\n",
        "df['kfold'] = -1\n",
        "df = df.sample(frac=1).reset_index(drop=True)\n",
        "kf = sklearn.model_selection.StratifiedKFold(n_splits=5, shuffle=False, random_state=13)\n",
        "for fold, (t_idx, v_idx) in enumerate(kf.split(X=df, y= df.target.values)):\n",
        "    print(len(t_idx), len(v_idx))\n",
        "    df.loc[v_idx, 'kfold'] = fold\n",
        "df.to_csv(os.path.join(PATH, 'train_folds.csv'), index = False)"
      ],
      "execution_count": null,
      "outputs": [
        {
          "output_type": "stream",
          "text": [
            "/usr/local/lib/python3.6/dist-packages/sklearn/model_selection/_split.py:296: FutureWarning: Setting a random_state has no effect since shuffle is False. This will raise an error in 0.24. You should leave random_state to its default (None), or set shuffle=True.\n",
            "  FutureWarning\n"
          ],
          "name": "stderr"
        },
        {
          "output_type": "stream",
          "text": [
            "240000 60000\n",
            "240000 60000\n",
            "240000 60000\n",
            "240000 60000\n",
            "240000 60000\n"
          ],
          "name": "stdout"
        }
      ]
    },
    {
      "cell_type": "code",
      "metadata": {
        "id": "mmwYAJaCwAT6",
        "colab": {
          "base_uri": "https://localhost:8080/",
          "height": 119
        },
        "outputId": "660d3af5-1dda-40c1-9e89-9ceb8b061c6f"
      },
      "source": [
        "df = pd.read_csv(os.path.join(PATH, 'train_folds.csv'))\n",
        "df.kfold.value_counts()"
      ],
      "execution_count": null,
      "outputs": [
        {
          "output_type": "execute_result",
          "data": {
            "text/plain": [
              "4    60000\n",
              "3    60000\n",
              "2    60000\n",
              "1    60000\n",
              "0    60000\n",
              "Name: kfold, dtype: int64"
            ]
          },
          "metadata": {
            "tags": []
          },
          "execution_count": 128
        }
      ]
    },
    {
      "cell_type": "code",
      "metadata": {
        "id": "Dve_yzibwAWh",
        "colab": {
          "base_uri": "https://localhost:8080/",
          "height": 221
        },
        "outputId": "719781ae-5c97-41e0-b018-7d9ecd027385"
      },
      "source": [
        "for i in range(4):\n",
        "  display(df[df.kfold == i].target.value_counts())"
      ],
      "execution_count": null,
      "outputs": [
        {
          "output_type": "display_data",
          "data": {
            "text/plain": [
              "0    41648\n",
              "1    18352\n",
              "Name: target, dtype: int64"
            ]
          },
          "metadata": {
            "tags": []
          }
        },
        {
          "output_type": "display_data",
          "data": {
            "text/plain": [
              "0    41647\n",
              "1    18353\n",
              "Name: target, dtype: int64"
            ]
          },
          "metadata": {
            "tags": []
          }
        },
        {
          "output_type": "display_data",
          "data": {
            "text/plain": [
              "0    41647\n",
              "1    18353\n",
              "Name: target, dtype: int64"
            ]
          },
          "metadata": {
            "tags": []
          }
        },
        {
          "output_type": "display_data",
          "data": {
            "text/plain": [
              "0    41647\n",
              "1    18353\n",
              "Name: target, dtype: int64"
            ]
          },
          "metadata": {
            "tags": []
          }
        }
      ]
    },
    {
      "cell_type": "markdown",
      "metadata": {
        "id": "aFx8vq3aacxU"
      },
      "source": [
        "#### Feature hashing "
      ]
    },
    {
      "cell_type": "code",
      "metadata": {
        "id": "zJMHePJOZ4eX",
        "colab": {
          "base_uri": "https://localhost:8080/",
          "height": 51
        },
        "outputId": "c3567187-5be8-4958-b128-5fa25423322d"
      },
      "source": [
        "from sklearn.feature_extraction import FeatureHasher\n",
        "h = FeatureHasher(n_features=10)\n",
        "D = [{'dog': 1, 'cat':2, 'elephant':4},{'dog': 1,'dog': 2, 'run': 5}]\n",
        "f = h.transform(D)\n",
        "f.toarray()"
      ],
      "execution_count": null,
      "outputs": [
        {
          "output_type": "execute_result",
          "data": {
            "text/plain": [
              "array([[ 0.,  0., -4., -1.,  0.,  0.,  0.,  0.,  0.,  2.],\n",
              "       [ 0.,  0.,  0., -2., -5.,  0.,  0.,  0.,  0.,  0.]])"
            ]
          },
          "metadata": {
            "tags": []
          },
          "execution_count": 1
        }
      ]
    },
    {
      "cell_type": "markdown",
      "metadata": {
        "id": "6bm52MgDgRLv"
      },
      "source": [
        "#### Encoding cyclic features\n",
        "\n",
        "http://www.math.ust.hk/~machiang/1013/Notes/tri_func.html\n",
        "\n",
        "day\t and month"
      ]
    },
    {
      "cell_type": "code",
      "metadata": {
        "id": "6SJghSEOZ5th",
        "colab": {
          "base_uri": "https://localhost:8080/",
          "height": 303
        },
        "outputId": "9d6dc7ca-43af-4046-92e3-5cf59f0c8ff2"
      },
      "source": [
        "Image(url='http://www.math.ust.hk/~machiang/1013/Notes/sine_2.gif')"
      ],
      "execution_count": null,
      "outputs": [
        {
          "output_type": "execute_result",
          "data": {
            "text/html": [
              "<img src=\"http://www.math.ust.hk/~machiang/1013/Notes/sine_2.gif\"/>"
            ],
            "text/plain": [
              "<IPython.core.display.Image object>"
            ]
          },
          "metadata": {
            "tags": []
          },
          "execution_count": 12
        }
      ]
    },
    {
      "cell_type": "code",
      "metadata": {
        "id": "A21TcmjYk_YQ",
        "colab": {
          "base_uri": "https://localhost:8080/",
          "height": 303
        },
        "outputId": "b89d2a6e-c432-44a3-bc88-f95a6e9a26ef"
      },
      "source": [
        "Image(url='http://www.math.ust.hk/~machiang/1013/Notes/cosine_2.gif')"
      ],
      "execution_count": null,
      "outputs": [
        {
          "output_type": "execute_result",
          "data": {
            "text/html": [
              "<img src=\"http://www.math.ust.hk/~machiang/1013/Notes/cosine_2.gif\"/>"
            ],
            "text/plain": [
              "<IPython.core.display.Image object>"
            ]
          },
          "metadata": {
            "tags": []
          },
          "execution_count": 13
        }
      ]
    },
    {
      "cell_type": "code",
      "metadata": {
        "id": "O2IvBgfmZ4cB",
        "colab": {
          "base_uri": "https://localhost:8080/",
          "height": 291
        },
        "outputId": "e1057eb3-d560-4baa-a7c9-f4af4e8923ef"
      },
      "source": [
        "#norm (2 *np.pi * val) / max(val)\n",
        "sin_day = np.sin((2 *np.pi * df.day) / max(df.day))\n",
        "cos_month = np.cos((2 *np.pi * df.month) / max(df.month))\n",
        "\n",
        "plt.scatter(\n",
        "    x = (2 *np.pi * df.day) / max(df.day),\n",
        "    y = sin_day\n",
        "    \n",
        ")\n",
        "plt.scatter(\n",
        "    x = (2 *np.pi * df.month) / max(df.month),\n",
        "    y = cos_month\n",
        "    \n",
        ")"
      ],
      "execution_count": null,
      "outputs": [
        {
          "output_type": "execute_result",
          "data": {
            "text/plain": [
              "<matplotlib.collections.PathCollection at 0x7fe9f89bf390>"
            ]
          },
          "metadata": {
            "tags": []
          },
          "execution_count": 21
        },
        {
          "output_type": "display_data",
          "data": {
            "image/png": "[encoded data removed]",
            "text/plain": [
              "<Figure size 432x288 with 1 Axes>"
            ]
          },
          "metadata": {
            "tags": [],
            "needs_background": "light"
          }
        }
      ]
    },
    {
      "cell_type": "code",
      "metadata": {
        "id": "l5A0XYWuZ5vr"
      },
      "source": [
        "def cyclic_feature(data: pd.DataFrame)->None:\n",
        "  \"\"\"\n",
        "  encode cycler features\n",
        "  day   - sin\n",
        "  month - cos  \n",
        "  \"\"\"\n",
        "  col = ['day', 'month']  \n",
        "  for c in col:\n",
        "    if c == 'day':\n",
        "      data[f'sin_{c}'] = np.sin((2 *np.pi * data[c]) / (data[c].max()))\n",
        "    else:\n",
        "      data[f'cos_{c}'] = np.cos((2 *np.pi * data[c]) / (data[c].max()))\n",
        "  data.drop(col, axis = 1, inplace = True)"
      ],
      "execution_count": null,
      "outputs": []
    },
    {
      "cell_type": "markdown",
      "metadata": {
        "id": "6cNABTLUu5fz"
      },
      "source": [
        "####  Target encoding\n",
        "\n",
        "In this method, we replace the categorical variable with only one new numeric variable and replace each category with a categorical variable with the corresponding goal probability (if categorical) or the mean of the goal (if numeric).\n",
        "\n",
        "The main disadvantages of this method are its dependence on the target distribution and its lower predictability compared to the binary coding method.\n",
        "\n",
        "THE KEY POINT IS THAT THE TARGET IS NOT IN THE TEST AND SHOULD BE APPLIED TO THE TEST AFTER CODING"
      ]
    },
    {
      "cell_type": "code",
      "metadata": {
        "id": "zVuuRmIQZ50D",
        "colab": {
          "base_uri": "https://localhost:8080/",
          "height": 221
        },
        "outputId": "64ac1f55-dadc-41e7-e48f-6607313a69f3"
      },
      "source": [
        "df.nom_3"
      ],
      "execution_count": null,
      "outputs": [
        {
          "output_type": "execute_result",
          "data": {
            "text/plain": [
              "0            Finland\n",
              "1             Russia\n",
              "2             Russia\n",
              "3             Canada\n",
              "4             Canada\n",
              "             ...    \n",
              "299995         India\n",
              "299996        Russia\n",
              "299997        Russia\n",
              "299998    Costa Rica\n",
              "299999        Russia\n",
              "Name: nom_3, Length: 300000, dtype: object"
            ]
          },
          "metadata": {
            "tags": []
          },
          "execution_count": 29
        }
      ]
    },
    {
      "cell_type": "code",
      "metadata": {
        "id": "oGWrjXYPZ54U",
        "colab": {
          "base_uri": "https://localhost:8080/",
          "height": 119
        },
        "outputId": "3a2f4a53-2055-450d-93ed-2b7606d0ae8d"
      },
      "source": [
        "#df.groupby('nom_3')['target'].agg('sum') / df.groupby('nom_3')['target'].agg('count') одно и тоже просто наглядней\n",
        "target = dict(df.groupby('nom_3')['target'].agg('mean'))\n",
        "target"
      ],
      "execution_count": null,
      "outputs": [
        {
          "output_type": "execute_result",
          "data": {
            "text/plain": [
              "{'Canada': 0.33979299713719446,\n",
              " 'China': 0.3117235687603162,\n",
              " 'Costa Rica': 0.3146882294098033,\n",
              " 'Finland': 0.24281305830761735,\n",
              " 'India': 0.36131143162393164,\n",
              " 'Russia': 0.28995381861693187}"
            ]
          },
          "metadata": {
            "tags": []
          },
          "execution_count": 91
        }
      ]
    },
    {
      "cell_type": "code",
      "metadata": {
        "id": "v-igDc-yZ58j",
        "colab": {
          "base_uri": "https://localhost:8080/",
          "height": 136
        },
        "outputId": "dc4b5fc4-c4f4-4e51-b813-37bbb09e08a7"
      },
      "source": [
        "df.nom_3.map(target).value_counts()"
      ],
      "execution_count": null,
      "outputs": [
        {
          "output_type": "execute_result",
          "data": {
            "text/plain": [
              "0.289954    101123\n",
              "0.339793     49951\n",
              "0.311724     46044\n",
              "0.242813     36942\n",
              "0.314688     35988\n",
              "0.361311     29952\n",
              "Name: nom_3, dtype: int64"
            ]
          },
          "metadata": {
            "tags": []
          },
          "execution_count": 92
        }
      ]
    },
    {
      "cell_type": "markdown",
      "metadata": {
        "id": "ykndSsR957fS"
      },
      "source": [
        "#### k-fold target encoding\n",
        "\n",
        "To reduce overfitting, k-fold target coding can be applied. In this method, we divide the dataset into k folds, here we consider 5 folds."
      ]
    },
    {
      "cell_type": "code",
      "metadata": {
        "id": "wlnz_vWfZ6BN",
        "colab": {
          "base_uri": "https://localhost:8080/",
          "height": 258
        },
        "outputId": "6174357b-2186-470d-d4b1-8be2f38b6356"
      },
      "source": [
        "df = pd.read_csv(os.path.join(PATH, 'train_folds.csv'))\n",
        "df_test = pd.read_csv(os.path.join(PATH, 'test.csv'))\n",
        "df.head()"
      ],
      "execution_count": null,
      "outputs": [
        {
          "output_type": "execute_result",
          "data": {
            "text/html": [
              "<div>\n",
              "<style scoped>\n",
              "    .dataframe tbody tr th:only-of-type {\n",
              "        vertical-align: middle;\n",
              "    }\n",
              "\n",
              "    .dataframe tbody tr th {\n",
              "        vertical-align: top;\n",
              "    }\n",
              "\n",
              "    .dataframe thead th {\n",
              "        text-align: right;\n",
              "    }\n",
              "</style>\n",
              "<table border=\"1\" class=\"dataframe\">\n",
              "  <thead>\n",
              "    <tr style=\"text-align: right;\">\n",
              "      <th></th>\n",
              "      <th>id</th>\n",
              "      <th>bin_0</th>\n",
              "      <th>bin_1</th>\n",
              "      <th>bin_2</th>\n",
              "      <th>bin_3</th>\n",
              "      <th>bin_4</th>\n",
              "      <th>nom_0</th>\n",
              "      <th>nom_1</th>\n",
              "      <th>nom_2</th>\n",
              "      <th>nom_3</th>\n",
              "      <th>nom_4</th>\n",
              "      <th>nom_5</th>\n",
              "      <th>nom_6</th>\n",
              "      <th>nom_7</th>\n",
              "      <th>nom_8</th>\n",
              "      <th>nom_9</th>\n",
              "      <th>ord_0</th>\n",
              "      <th>ord_1</th>\n",
              "      <th>ord_2</th>\n",
              "      <th>ord_3</th>\n",
              "      <th>ord_4</th>\n",
              "      <th>ord_5</th>\n",
              "      <th>day</th>\n",
              "      <th>month</th>\n",
              "      <th>target</th>\n",
              "      <th>kfold</th>\n",
              "    </tr>\n",
              "  </thead>\n",
              "  <tbody>\n",
              "    <tr>\n",
              "      <th>0</th>\n",
              "      <td>286118</td>\n",
              "      <td>0</td>\n",
              "      <td>0</td>\n",
              "      <td>0</td>\n",
              "      <td>T</td>\n",
              "      <td>Y</td>\n",
              "      <td>Green</td>\n",
              "      <td>Trapezoid</td>\n",
              "      <td>Snake</td>\n",
              "      <td>India</td>\n",
              "      <td>Oboe</td>\n",
              "      <td>60a44c8f4</td>\n",
              "      <td>c36cea1f7</td>\n",
              "      <td>9d6653dde</td>\n",
              "      <td>3032ce76e</td>\n",
              "      <td>b951652da</td>\n",
              "      <td>2</td>\n",
              "      <td>Novice</td>\n",
              "      <td>Lava Hot</td>\n",
              "      <td>d</td>\n",
              "      <td>R</td>\n",
              "      <td>Qo</td>\n",
              "      <td>3</td>\n",
              "      <td>1</td>\n",
              "      <td>0</td>\n",
              "      <td>0</td>\n",
              "    </tr>\n",
              "    <tr>\n",
              "      <th>1</th>\n",
              "      <td>257514</td>\n",
              "      <td>0</td>\n",
              "      <td>0</td>\n",
              "      <td>0</td>\n",
              "      <td>T</td>\n",
              "      <td>Y</td>\n",
              "      <td>Blue</td>\n",
              "      <td>Trapezoid</td>\n",
              "      <td>Lion</td>\n",
              "      <td>Finland</td>\n",
              "      <td>Bassoon</td>\n",
              "      <td>bd40c81f3</td>\n",
              "      <td>edb3cf6c8</td>\n",
              "      <td>59de9c26a</td>\n",
              "      <td>feb50e76d</td>\n",
              "      <td>5ecdf8481</td>\n",
              "      <td>1</td>\n",
              "      <td>Grandmaster</td>\n",
              "      <td>Cold</td>\n",
              "      <td>k</td>\n",
              "      <td>L</td>\n",
              "      <td>CU</td>\n",
              "      <td>7</td>\n",
              "      <td>8</td>\n",
              "      <td>0</td>\n",
              "      <td>0</td>\n",
              "    </tr>\n",
              "    <tr>\n",
              "      <th>2</th>\n",
              "      <td>35412</td>\n",
              "      <td>0</td>\n",
              "      <td>1</td>\n",
              "      <td>0</td>\n",
              "      <td>T</td>\n",
              "      <td>Y</td>\n",
              "      <td>Green</td>\n",
              "      <td>Trapezoid</td>\n",
              "      <td>Snake</td>\n",
              "      <td>Finland</td>\n",
              "      <td>Piano</td>\n",
              "      <td>493de6347</td>\n",
              "      <td>ec97e8751</td>\n",
              "      <td>e1ea45053</td>\n",
              "      <td>ae06e29df</td>\n",
              "      <td>581de94cb</td>\n",
              "      <td>1</td>\n",
              "      <td>Novice</td>\n",
              "      <td>Cold</td>\n",
              "      <td>f</td>\n",
              "      <td>I</td>\n",
              "      <td>KR</td>\n",
              "      <td>3</td>\n",
              "      <td>2</td>\n",
              "      <td>0</td>\n",
              "      <td>0</td>\n",
              "    </tr>\n",
              "    <tr>\n",
              "      <th>3</th>\n",
              "      <td>251790</td>\n",
              "      <td>0</td>\n",
              "      <td>1</td>\n",
              "      <td>0</td>\n",
              "      <td>T</td>\n",
              "      <td>N</td>\n",
              "      <td>Blue</td>\n",
              "      <td>Circle</td>\n",
              "      <td>Dog</td>\n",
              "      <td>India</td>\n",
              "      <td>Oboe</td>\n",
              "      <td>a3f640358</td>\n",
              "      <td>803f6cece</td>\n",
              "      <td>76f770ea1</td>\n",
              "      <td>6f85744aa</td>\n",
              "      <td>6dfac0823</td>\n",
              "      <td>1</td>\n",
              "      <td>Novice</td>\n",
              "      <td>Boiling Hot</td>\n",
              "      <td>i</td>\n",
              "      <td>P</td>\n",
              "      <td>Uk</td>\n",
              "      <td>3</td>\n",
              "      <td>3</td>\n",
              "      <td>0</td>\n",
              "      <td>0</td>\n",
              "    </tr>\n",
              "    <tr>\n",
              "      <th>4</th>\n",
              "      <td>28874</td>\n",
              "      <td>0</td>\n",
              "      <td>0</td>\n",
              "      <td>1</td>\n",
              "      <td>T</td>\n",
              "      <td>Y</td>\n",
              "      <td>Red</td>\n",
              "      <td>Trapezoid</td>\n",
              "      <td>Snake</td>\n",
              "      <td>Russia</td>\n",
              "      <td>Bassoon</td>\n",
              "      <td>b7bb45938</td>\n",
              "      <td>21cb526c2</td>\n",
              "      <td>920b9ec8b</td>\n",
              "      <td>c09a0e552</td>\n",
              "      <td>c530e099c</td>\n",
              "      <td>1</td>\n",
              "      <td>Grandmaster</td>\n",
              "      <td>Warm</td>\n",
              "      <td>d</td>\n",
              "      <td>I</td>\n",
              "      <td>QM</td>\n",
              "      <td>2</td>\n",
              "      <td>9</td>\n",
              "      <td>0</td>\n",
              "      <td>0</td>\n",
              "    </tr>\n",
              "  </tbody>\n",
              "</table>\n",
              "</div>"
            ],
            "text/plain": [
              "       id  bin_0  bin_1  bin_2 bin_3  ... ord_5 day month target kfold\n",
              "0  286118      0      0      0     T  ...    Qo   3     1      0     0\n",
              "1  257514      0      0      0     T  ...    CU   7     8      0     0\n",
              "2   35412      0      1      0     T  ...    KR   3     2      0     0\n",
              "3  251790      0      1      0     T  ...    Uk   3     3      0     0\n",
              "4   28874      0      0      1     T  ...    QM   2     9      0     0\n",
              "\n",
              "[5 rows x 26 columns]"
            ]
          },
          "metadata": {
            "tags": []
          },
          "execution_count": 224
        }
      ]
    },
    {
      "cell_type": "code",
      "metadata": {
        "id": "XNPTyiLTZ6Db"
      },
      "source": [
        "for f in range(4):\n",
        "  target = dict(df[df.kfold != f].groupby('nom_3')['target'].agg('mean'))\n",
        "  df.loc[df.kfold != f, 'mean_nom_3'] = df.loc[df.kfold != f, 'nom_3'].map(target)\n",
        "  df_test[f'{f}_nom_3'] = df_test.nom_3.map(target)"
      ],
      "execution_count": null,
      "outputs": []
    },
    {
      "cell_type": "code",
      "metadata": {
        "id": "hHvL44l_Z6Fe",
        "colab": {
          "base_uri": "https://localhost:8080/",
          "height": 238
        },
        "outputId": "c8169c1a-94d9-4b84-cea5-f84307f33de7"
      },
      "source": [
        "df['{f}_nom_3'].value_counts()"
      ],
      "execution_count": null,
      "outputs": [
        {
          "output_type": "execute_result",
          "data": {
            "text/plain": [
              "0.289857    81002\n",
              "0.341212    39899\n",
              "0.311275    36948\n",
              "0.242467    29538\n",
              "0.312640    28672\n",
              "0.363017    23941\n",
              "0.289378    20121\n",
              "0.338719    10052\n",
              "0.313571     9096\n",
              "0.244475     7404\n",
              "0.314566     7316\n",
              "0.360161     6011\n",
              "Name: {f}_nom_3, dtype: int64"
            ]
          },
          "metadata": {
            "tags": []
          },
          "execution_count": 110
        }
      ]
    },
    {
      "cell_type": "code",
      "metadata": {
        "id": "xY3-kKdnmGqz",
        "colab": {
          "base_uri": "https://localhost:8080/",
          "height": 136
        },
        "outputId": "89b0515f-543c-47d8-dee2-43d289f1fdf3"
      },
      "source": [
        "df_test[[f'{i}_nom_3' for i in  range(4)]].mean(axis = 1).value_counts()"
      ],
      "execution_count": null,
      "outputs": [
        {
          "output_type": "execute_result",
          "data": {
            "text/plain": [
              "0.289997    67357\n",
              "0.339718    33035\n",
              "0.311845    30552\n",
              "0.243013    25028\n",
              "0.314403    24225\n",
              "0.361107    19803\n",
              "dtype: int64"
            ]
          },
          "metadata": {
            "tags": []
          },
          "execution_count": 124
        }
      ]
    },
    {
      "cell_type": "code",
      "metadata": {
        "id": "pEZcDEGhkJST",
        "colab": {
          "base_uri": "https://localhost:8080/",
          "height": 434,
          "referenced_widgets": [
            "bf02642f49b14a1c9cbe3a469f1d1a56",
            "e7567fb1420447408b62eda28be44df4",
            "0a3c9f6dda67420ba5a340b202ef6645",
            "314c104b0bdf4326b3228cc3284b3c65",
            "9dfe7c9372134677941d12bc1fdd1a46",
            "cc10ccd326f14c8a9a6f300bbf311556",
            "a1e1d5749a8445d09377b480bc403694",
            "baffe12e2c014dc189a8720aa67c50ad",
            "76473aea859b484f88561fcaee96f441",
            "204fb4fa53bf435a99f81be89f1ecdb6",
            "4e73390deeca49429b89c895e8dcd523",
            "d05760e61671429c83413a1c2818997c",
            "11cf6b933515440d947d72cd316c08bf",
            "42b88958ab634415ab8864a927e2ef3e",
            "151b35c895c94f7f9971fc9df73dabdc",
            "4410b11122c7496592e79087a1d1a785",
            "ce751920cda34b249f3ea4add562095d",
            "159359bbaccb428fa435a3811d59f247",
            "f956564459d448578b62182553fdc579",
            "cd9f90c3afdd469e98720f5301429fe2",
            "3863819ac93f490a9ca2a518afa12d7c",
            "4a519acb61fb4746a9e0f47ed400d75c",
            "9328533190b54c80867681b65571493b",
            "f48ae4fc375d403c848a92dfcb0383ab",
            "dcf50571b6064ea6b0eb6f35d978b877",
            "1f642d937751457a9370a1e799bc2f5a",
            "847ec63ec275437ea196540d287044b0",
            "2fa307382aff4326a9ff64de697c0980",
            "47849371e72a4b829dad8a06a1ce8f0e",
            "a2dee79932cf41c1ba7be9aa6b639a14",
            "4e3e0f0e105a4ca9beda64a7f831cb39",
            "a6dfe1f9f8044a4f9ac8612c59fbec48"
          ]
        },
        "outputId": "a2b72851-2f34-4135-acfa-302cf7fd3183"
      },
      "source": [
        "def addmean_to_test(df_test: pd.DataFrame, target : dict, col: np.array, f: int, n_col:int)->pd.DataFrame:\n",
        "  \"\"\"\n",
        "  add val by each fold for all test\n",
        "  if not key set val = 0 for miss key \n",
        "  \"\"\"    \n",
        "  for i in range(df_test.shape[0]):    \n",
        "    key = tuple(df_test.loc[i, col])\n",
        "    name = f'{f}_mean_num{n_col}'\n",
        "    try:\n",
        "      val = target[key]\n",
        "      df_test.loc[i, name] = val\n",
        "    except:      \n",
        "      df_test.loc[i, name] = 0\n",
        "  return df_test\n",
        "\n",
        "def mean_fold_target(df : pd.DataFrame, df_test : pd.DataFrame, columns : np.array) -> pd.DataFrame:\n",
        "  \"\"\"make mean for each fold\n",
        "                          -train\n",
        "                          -test\n",
        "  \"\"\"\n",
        "  col = 'mean_fold_target'\n",
        "  df.loc[:, col] = df[columns].mean(axis=1)\n",
        "  df_test.loc[:, col] = df_test[columns].mean(axis=1) \n",
        "  df.drop(columns, axis =1, inplace=True) \n",
        "  df_test.drop(columns, axis =1, inplace=True) \n",
        "  return df, df_test\n",
        "\n",
        "\n",
        "def kfold_mean_encode(fold: int, n_col : int = 3) -> pd.DataFrame:\n",
        "  \"\"\"\n",
        "  fold num folds\n",
        "  n_col: 1-3 count features make for test ['nom_3', 'nom_5', 'ord_3']\n",
        "  ---\n",
        "  34 min for one fold\n",
        "  \"\"\"\n",
        "  \n",
        "  df = pd.read_csv(os.path.join(PATH, 'train_folds.csv'))\n",
        "  df_test = pd.read_csv(os.path.join(PATH, 'test.csv'))\n",
        "\n",
        "  if n_col == 3:\n",
        "    col = ['nom_3', 'nom_5', 'ord_3']\n",
        "  elif n_col == 2:\n",
        "    col = ['nom_3', 'ord_3']  \n",
        "  else:\n",
        "    col = 'nom_3'\n",
        "    \n",
        " \n",
        "  for f in range(fold):\n",
        "    print(f'Fold: {f}')\n",
        "    temp_df = df[df.kfold != f]\n",
        "    columns = [f'{f}_mean_num{n_col}' for f in range(fold)]    \n",
        "    target = dict(temp_df.groupby(col)['target'].agg('mean'))\n",
        "    if col == 'nom_3':  \n",
        "      df.loc[df.kfold != f, f'{f}_mean_num{n_col}'] = df.loc[df.kfold != f, col].map(target)\n",
        "      df_test[f'{f}_mean_num{n_col}'] = df_test.nom_3.map(target)   \n",
        "    else:          \n",
        "      for i in tqdm(temp_df.id.values):\n",
        "        key = tuple(df.loc[df.id == i, col].values[0])        \n",
        "        val = target[key]        \n",
        "        df.loc[df.id == i, f'{f}_mean_num{n_col}'] = val\n",
        "      #test      \n",
        "      df_test = addmean_to_test(df_test, target, col, f, n_col)  \n",
        "  print(col)\n",
        "  df, df_test = mean_fold_target(df, df_test, columns) \n",
        "  return df, df_test\n",
        "\n",
        "\n",
        "df, df_test = kfold_mean_encode(4)  "
      ],
      "execution_count": null,
      "outputs": [
        {
          "output_type": "stream",
          "text": [
            "Fold: 0\n"
          ],
          "name": "stdout"
        },
        {
          "output_type": "stream",
          "text": [
            "/usr/local/lib/python3.6/dist-packages/ipykernel_launcher.py:57: TqdmDeprecationWarning: This function will be removed in tqdm==5.0.0\n",
            "Please use `tqdm.notebook.tqdm` instead of `tqdm.tqdm_notebook`\n"
          ],
          "name": "stderr"
        },
        {
          "output_type": "display_data",
          "data": {
            "application/vnd.jupyter.widget-view+json": {
              "model_id": "bf02642f49b14a1c9cbe3a469f1d1a56",
              "version_minor": 0,
              "version_major": 2
            },
            "text/plain": [
              "HBox(children=(FloatProgress(value=0.0, max=240000.0), HTML(value='')))"
            ]
          },
          "metadata": {
            "tags": []
          }
        },
        {
          "output_type": "stream",
          "text": [
            "\n",
            "Fold: 1\n"
          ],
          "name": "stdout"
        },
        {
          "output_type": "stream",
          "text": [
            "/usr/local/lib/python3.6/dist-packages/ipykernel_launcher.py:57: TqdmDeprecationWarning: This function will be removed in tqdm==5.0.0\n",
            "Please use `tqdm.notebook.tqdm` instead of `tqdm.tqdm_notebook`\n"
          ],
          "name": "stderr"
        },
        {
          "output_type": "display_data",
          "data": {
            "application/vnd.jupyter.widget-view+json": {
              "model_id": "76473aea859b484f88561fcaee96f441",
              "version_minor": 0,
              "version_major": 2
            },
            "text/plain": [
              "HBox(children=(FloatProgress(value=0.0, max=240000.0), HTML(value='')))"
            ]
          },
          "metadata": {
            "tags": []
          }
        },
        {
          "output_type": "stream",
          "text": [
            "\n",
            "Fold: 2\n"
          ],
          "name": "stdout"
        },
        {
          "output_type": "stream",
          "text": [
            "/usr/local/lib/python3.6/dist-packages/ipykernel_launcher.py:57: TqdmDeprecationWarning: This function will be removed in tqdm==5.0.0\n",
            "Please use `tqdm.notebook.tqdm` instead of `tqdm.tqdm_notebook`\n"
          ],
          "name": "stderr"
        },
        {
          "output_type": "display_data",
          "data": {
            "application/vnd.jupyter.widget-view+json": {
              "model_id": "ce751920cda34b249f3ea4add562095d",
              "version_minor": 0,
              "version_major": 2
            },
            "text/plain": [
              "HBox(children=(FloatProgress(value=0.0, max=240000.0), HTML(value='')))"
            ]
          },
          "metadata": {
            "tags": []
          }
        },
        {
          "output_type": "stream",
          "text": [
            "\n",
            "Fold: 3\n"
          ],
          "name": "stdout"
        },
        {
          "output_type": "stream",
          "text": [
            "/usr/local/lib/python3.6/dist-packages/ipykernel_launcher.py:57: TqdmDeprecationWarning: This function will be removed in tqdm==5.0.0\n",
            "Please use `tqdm.notebook.tqdm` instead of `tqdm.tqdm_notebook`\n"
          ],
          "name": "stderr"
        },
        {
          "output_type": "display_data",
          "data": {
            "application/vnd.jupyter.widget-view+json": {
              "model_id": "dcf50571b6064ea6b0eb6f35d978b877",
              "version_minor": 0,
              "version_major": 2
            },
            "text/plain": [
              "HBox(children=(FloatProgress(value=0.0, max=240000.0), HTML(value='')))"
            ]
          },
          "metadata": {
            "tags": []
          }
        },
        {
          "output_type": "stream",
          "text": [
            "\n",
            "['nom_3', 'nom_5', 'ord_3']\n"
          ],
          "name": "stdout"
        }
      ]
    },
    {
      "cell_type": "code",
      "metadata": {
        "id": "uXtCn0CJ3dVJ"
      },
      "source": [
        "df.to_csv(os.path.join(PATH, 'train_kfold_mean.csv'), index= False)\n",
        "df_test.to_csv(os.path.join(PATH, 'test_kfold_mean.csv'), index=False)"
      ],
      "execution_count": null,
      "outputs": []
    },
    {
      "cell_type": "code",
      "metadata": {
        "id": "rstXe550WJMc"
      },
      "source": [
        "df = pd.read_csv(os.path.join(PATH, 'train_kfold_mean.csv'))\n",
        "df_test = pd.read_csv(os.path.join(PATH, 'test_kfold_mean.csv'))"
      ],
      "execution_count": null,
      "outputs": []
    },
    {
      "cell_type": "code",
      "metadata": {
        "id": "PSLSlD4tdnzs",
        "colab": {
          "base_uri": "https://localhost:8080/",
          "height": 561
        },
        "outputId": "44db12d1-4d83-4722-9b9a-229d863d6b76"
      },
      "source": [
        "df_test.info()"
      ],
      "execution_count": null,
      "outputs": [
        {
          "output_type": "stream",
          "text": [
            "<class 'pandas.core.frame.DataFrame'>\n",
            "RangeIndex: 200000 entries, 0 to 199999\n",
            "Data columns (total 25 columns):\n",
            " #   Column            Non-Null Count   Dtype  \n",
            "---  ------            --------------   -----  \n",
            " 0   id                200000 non-null  int64  \n",
            " 1   bin_0             200000 non-null  int64  \n",
            " 2   bin_1             200000 non-null  int64  \n",
            " 3   bin_2             200000 non-null  int64  \n",
            " 4   bin_3             200000 non-null  object \n",
            " 5   bin_4             200000 non-null  object \n",
            " 6   nom_0             200000 non-null  object \n",
            " 7   nom_1             200000 non-null  object \n",
            " 8   nom_2             200000 non-null  object \n",
            " 9   nom_3             200000 non-null  object \n",
            " 10  nom_4             200000 non-null  object \n",
            " 11  nom_5             200000 non-null  object \n",
            " 12  nom_6             200000 non-null  object \n",
            " 13  nom_7             200000 non-null  object \n",
            " 14  nom_8             200000 non-null  object \n",
            " 15  nom_9             200000 non-null  object \n",
            " 16  ord_0             200000 non-null  int64  \n",
            " 17  ord_1             200000 non-null  object \n",
            " 18  ord_2             200000 non-null  object \n",
            " 19  ord_3             200000 non-null  object \n",
            " 20  ord_4             200000 non-null  object \n",
            " 21  ord_5             200000 non-null  object \n",
            " 22  day               200000 non-null  int64  \n",
            " 23  month             200000 non-null  int64  \n",
            " 24  mean_fold_target  200000 non-null  float64\n",
            "dtypes: float64(1), int64(7), object(17)\n",
            "memory usage: 38.1+ MB\n"
          ],
          "name": "stdout"
        }
      ]
    },
    {
      "cell_type": "code",
      "metadata": {
        "id": "ZI324zlNkErb"
      },
      "source": [
        "def add_noise(series, noise_level):\n",
        "  return series * (1 + noise_level * np.random.randn(len(series)))\n",
        "\n",
        "def ol_encode(trn_series=None, \n",
        "                  tst_series=None, \n",
        "                  target=None, \n",
        "                  min_samples_leaf=1, \n",
        "                  smoothing=1,\n",
        "                  noise_level=0):\n",
        "  \"\"\"\n",
        "  Smoothing is computed like in the following paper by Daniele Micci-Barreca\n",
        "  https://kaggle2.blob.core.windows.net/forum-message-attachments/225952/7441/high%20cardinality%20categoricals.pdf\n",
        "  trn_series : training categorical feature as a pd.Series\n",
        "  tst_series : test categorical feature as a pd.Series\n",
        "  target : target data as a pd.Series\n",
        "  min_samples_leaf (int) : minimum samples to take category average into account\n",
        "  smoothing (int) : smoothing effect to balance categorical average vs prior  \n",
        "  \"\"\" \n",
        "  assert len(trn_series) == len(target)\n",
        "  assert trn_series.name == tst_series.name\n",
        "  temp = pd.concat([trn_series, target], axis=1)\n",
        "  # Compute target mean \n",
        "  averages = temp.groupby(by=trn_series.name)[target.name].agg([\"mean\", \"count\"])\n",
        "  # Compute smoothing\n",
        "  smoothing = 1 / (1 + np.exp(-(averages[\"count\"] - min_samples_leaf) / smoothing))\n",
        "  # Apply average function to all target data\n",
        "  prior = target.mean()\n",
        "  # The bigger the count the less full_avg is taken into account\n",
        "  averages[target.name] = prior * (1 - smoothing) + averages[\"mean\"] * smoothing\n",
        "  averages.drop([\"mean\", \"count\"], axis=1, inplace=True)\n",
        "  # Apply averages to trn and tst series\n",
        "  ft_trn_series = pd.merge(\n",
        "      trn_series.to_frame(trn_series.name),\n",
        "      averages.reset_index().rename(columns={'index': target.name, target.name: 'average'}),\n",
        "      on=trn_series.name,\n",
        "      how='left')['average'].rename(trn_series.name + '_mean').fillna(prior)\n",
        "  # pd.merge does not keep the index so restore it\n",
        "  ft_trn_series.index = trn_series.index \n",
        "  ft_tst_series = pd.merge(\n",
        "      tst_series.to_frame(tst_series.name),\n",
        "      averages.reset_index().rename(columns={'index': target.name, target.name: 'average'}),\n",
        "      on=tst_series.name,\n",
        "      how='left')['average'].rename(trn_series.name + '_mean').fillna(prior)\n",
        "  # pd.merge does not keep the index so restore it\n",
        "  ft_tst_series.index = tst_series.index\n",
        "  return add_noise(ft_trn_series, noise_level), add_noise(ft_tst_series, noise_level)\n",
        "\n",
        "\n",
        "def cyclic_feature(data: pd.DataFrame)->None:\n",
        "  \"\"\"\n",
        "  encode cycler features\n",
        "  day   - sin\n",
        "  month - cos  \n",
        "  \"\"\"\n",
        "  col = ['day', 'month']  \n",
        "  for c in col:\n",
        "    if c == 'day':\n",
        "      data[f'sin_{c}'] = np.sin((2 *np.pi * data[c]) / (data[c].max()))\n",
        "    else:\n",
        "      data[f'cos_{c}'] = np.cos((2 *np.pi * data[c]) / (data[c].max()))\n",
        "  data.drop(col, axis = 1, inplace = True)\n",
        "\n",
        "def target_encode(data:pd.DataFrame)->None:\n",
        "    \"\"\"\n",
        "    data full train + test\n",
        "    col = nom_1\n",
        "    \"\"\"\n",
        "    target = dict(data[data.target != 999].groupby('nom_1')['target'].agg('mean'))\n",
        "    data.loc[:, 'nom_1'] = data.nom_1.map(target)    \n",
        "\n",
        "def features_encode(\n",
        "                    data: pd.DataFrame,\n",
        "                    num_features: int = 1,\n",
        "                    cyclic : bool = True,\n",
        "                    target : bool = True,\n",
        "                    ol : bool = False,\n",
        "                    drop : bool = False,\n",
        "                    saved: bool = True\n",
        "                    ) -> pd.DataFrame:\n",
        "  \n",
        "    \"\"\"\n",
        "    data used if (target = True) another we used saved data\n",
        "      one col\n",
        "      three col\n",
        "\n",
        "    saved if True load saved data with kfold mean else train\n",
        "\n",
        "    1.target encode\n",
        "        sample test country nom_1\n",
        "    2.cyclic features [day, month]\n",
        "    3.k_fold target\n",
        "        sample test country nom_3\n",
        "            v1 no drop\n",
        "            v2 drop by features\n",
        "    4.one_hot default best scores in run.py\n",
        "\n",
        "    5.olivier, https://www.kaggle.com/ogrellier/python-target-encoding-for-categorical-features    \n",
        "\n",
        "    \n",
        "    how works\n",
        "    1. (target or ol) + cycler -> target mean\n",
        "      if ol no drop True\n",
        "    2. target and ol == False, 1 or num + cycler -> kfold mean\n",
        "    \n",
        "    \"\"\"\n",
        "\n",
        "    if target:\n",
        "      print('target')\n",
        "      # no drop nom_1\n",
        "      if drop:\n",
        "        raise Exception('No use drop this param, target = True')\n",
        "      target_encode(data)\n",
        "      add_col = ['nom_1']\n",
        "    elif ol:\n",
        "      print('oll')\n",
        "      if drop:\n",
        "        raise Exception('No use drop this param, ol = True')\n",
        "      name = 'mean_oltarget'\n",
        "      train, test = data[data.target != 999], data[data.target == 999]      \n",
        "      trn, sub = ol_encode(train[\"nom_3\"], \n",
        "                               test[\"nom_3\"], \n",
        "                               train.target, \n",
        "                               min_samples_leaf=100,\n",
        "                               smoothing=10,\n",
        "                               noise_level=0.01)\n",
        "      train.loc[:, name] = trn\n",
        "      test.loc[:, name] = sub\n",
        "      data = pd.concat([\n",
        "                        train, test\n",
        "                        ])\n",
        "      data.drop(\"nom_3\", axis = 1, inplace=True) \n",
        "      add_col = ['mean_oltarget']      \n",
        "    else:\n",
        "      print('num')\n",
        "      # load saved data kfold mean target\n",
        "      if num_features == 1:\n",
        "        # ['nom_3']\n",
        "        if saved:\n",
        "          df = pd.read_csv(os.path.join(PATH, 'train_kfold_mean_onecol.csv'))\n",
        "          df_test = pd.read_csv(os.path.join(PATH, 'test_kfold_mean_onecol.csv'))\n",
        "        else:\n",
        "          df, df_test = kfold_mean_encode(4, 1) \n",
        "\n",
        "      else:\n",
        "        if saved:\n",
        "          # ['nom_3', 'nom_5', 'ord_3']   \n",
        "          df = pd.read_csv(os.path.join(PATH, 'train_kfold_mean.csv'))\n",
        "          df_test = pd.read_csv(os.path.join(PATH, 'test_kfold_mean.csv')) \n",
        "        else:\n",
        "          df, df_test = kfold_mean_encode(4)      \n",
        "      df_test['target'] = 999\n",
        "      data = pd.concat([\n",
        "                        df, df_test\n",
        "                        ]) \n",
        "      add_col = ['mean_fold_target']   \n",
        "    if cyclic:\n",
        "      cyclic_feature(data)     \n",
        "\n",
        "    if drop:\n",
        "      if num_features == 1:\n",
        "        col =['nom_3']        \n",
        "      else:\n",
        "        col = ['nom_3', 'nom_5', 'ord_3']\n",
        "      data.drop(col, axis=1, inplace=True)  \n",
        "    \n",
        "    #return correct col to lebel encode\n",
        "    # if target nom_1\n",
        "    # if ol mean_oltarget\n",
        "    # other mean_fold_target\n",
        "    col = ['sin_day',\t'cos_month', 'target', 'id'] + add_col \n",
        "    return data, col"
      ],
      "execution_count": null,
      "outputs": []
    },
    {
      "cell_type": "code",
      "metadata": {
        "id": "2gbdr_Cfe7Oz",
        "colab": {
          "base_uri": "https://localhost:8080/",
          "height": 272
        },
        "outputId": "ed03b578-bb85-4488-a36d-dcf9e30d7ab3"
      },
      "source": [
        "df = pd.read_csv(os.path.join(PATH, 'train_folds.csv')).head(1000)\n",
        "df_test = pd.read_csv(os.path.join(PATH, 'test.csv')).head(1000)\n",
        "df_test['target'] = 999\n",
        "data = pd.concat([\n",
        "                  df, df_test\n",
        "                  ])\n",
        "data, col = features_encode(data, num_features =3, cyclic = True, target = False, ol = False, drop=True, saved =True)\n",
        "data.head(), col, data.columns"
      ],
      "execution_count": null,
      "outputs": [
        {
          "output_type": "stream",
          "text": [
            "num\n"
          ],
          "name": "stdout"
        },
        {
          "output_type": "execute_result",
          "data": {
            "text/plain": [
              "(       id  bin_0  bin_1  ...  mean_fold_target       sin_day     cos_month\n",
              " 0  286118      0      0  ...          0.377778  4.338837e-01  8.660254e-01\n",
              " 1  257514      0      0  ...          0.274062 -2.449294e-16 -5.000000e-01\n",
              " 2   35412      0      1  ...          0.450980  4.338837e-01  5.000000e-01\n",
              " 3  251790      0      1  ...          0.245238  4.338837e-01  6.123234e-17\n",
              " 4   28874      0      0  ...          0.139466  9.749279e-01 -1.836970e-16\n",
              " \n",
              " [5 rows x 24 columns],\n",
              " ['sin_day', 'cos_month', 'target', 'id', 'mean_fold_target'],\n",
              " Index(['id', 'bin_0', 'bin_1', 'bin_2', 'bin_3', 'bin_4', 'nom_0', 'nom_1',\n",
              "        'nom_2', 'nom_4', 'nom_6', 'nom_7', 'nom_8', 'nom_9', 'ord_0', 'ord_1',\n",
              "        'ord_2', 'ord_4', 'ord_5', 'target', 'kfold', 'mean_fold_target',\n",
              "        'sin_day', 'cos_month'],\n",
              "       dtype='object'))"
            ]
          },
          "metadata": {
            "tags": []
          },
          "execution_count": 22
        }
      ]
    },
    {
      "cell_type": "markdown",
      "metadata": {
        "id": "VhmAqiwZR1oS"
      },
      "source": [
        "### load/save py  files by magic"
      ]
    },
    {
      "cell_type": "code",
      "metadata": {
        "id": "Ozey3hg5wAa5",
        "colab": {
          "base_uri": "https://localhost:8080/"
        },
        "outputId": "25079b9e-1b46-4c68-8eec-ff9e73b08e05"
      },
      "source": [
        "%%writefile  config.py\n",
        "\"\"\"\n",
        "This file load all path in project\n",
        "we get acces by name\n",
        "\n",
        "command to jupyter\n",
        "\n",
        "%run config.py run code\n",
        "!rm config.py del file\n",
        "%pycat config.py displayed code\n",
        "\"\"\"\n",
        "PATH                     = '/content/drive/My Drive/Encode_Challenge/data/project_1'\n",
        "PATH_MODEL               = '/content/drive/My Drive/Encode_Challenge/data/project_1/model'\n",
        "PATH_SUB                 = '/content/drive/My Drive/Encode_Challenge/data/project_1/submission'\n",
        "\n",
        "#saved fold mean target\n",
        "PATH_KFMEAN_ONECOL_TRAIN ='/content/drive/My Drive/Encode_Challenge/data/project_1/train_kfold_mean_onecol.csv'\n",
        "PATH_KFMEAN_ONECOL_TEST  ='/content/drive/My Drive/Encode_Challenge/data/project_1/test_kfold_mean_onecol.csv'\n",
        "\n",
        "PATH_KFMEAN_TRAIN        ='/content/drive/My Drive/Encode_Challenge/data/project_1/train_kfold_mean.csv'\n",
        "PATH_KFMEAN_TEST         = '/content/drive/My Drive/Encode_Challenge/data/project_1/test_kfold_mean.csv'\n",
        " "
      ],
      "execution_count": null,
      "outputs": [
        {
          "output_type": "stream",
          "text": [
            "Writing config.py\n"
          ],
          "name": "stdout"
        }
      ]
    },
    {
      "cell_type": "code",
      "metadata": {
        "id": "2C5DLr0XwApB",
        "colab": {
          "base_uri": "https://localhost:8080/"
        },
        "outputId": "9cefe2ac-5b90-47b3-a2cc-508256fd078e"
      },
      "source": [
        "%%writefile run_logistic.py\n",
        "import os\n",
        "import scipy\n",
        "import sklearn\n",
        "import joblib\n",
        "import pandas as pd\n",
        "import numpy as np\n",
        "import lightgbm as lgb\n",
        "from catboost import CatBoostClassifier\n",
        "from sklearn.preprocessing import OneHotEncoder\n",
        "from sklearn.linear_model import LogisticRegression\n",
        "\n",
        "from config import *\n",
        "\n",
        "def addmean_to_test(df_test: pd.DataFrame, target : dict, col: np.array, f: int, n_col:int)->pd.DataFrame:\n",
        "  \"\"\"\n",
        "  add val by each fold for all test\n",
        "  if not key set val = 0 for miss key \n",
        "  \"\"\"    \n",
        "  for i in range(df_test.shape[0]):    \n",
        "    key = tuple(df_test.loc[i, col])\n",
        "    name = f'{f}_mean_num{n_col}'\n",
        "    try:\n",
        "      val = target[key]\n",
        "      df_test.loc[i, name] = val\n",
        "    except:      \n",
        "      df_test.loc[i, name] = 0\n",
        "  return df_test\n",
        "\n",
        "def mean_fold_target(df : pd.DataFrame, df_test : pd.DataFrame, columns : np.array) -> pd.DataFrame:\n",
        "  \"\"\"make mean for each fold\n",
        "                          -train\n",
        "                          -test\n",
        "  \"\"\"\n",
        "  col = 'mean_fold_target'\n",
        "  df.loc[:, col] = df[columns].mean(axis=1)\n",
        "  df_test.loc[:, col] = df_test[columns].mean(axis=1) \n",
        "  df.drop(columns, axis =1, inplace=True) \n",
        "  df_test.drop(columns, axis =1, inplace=True) \n",
        "  return df, df_test\n",
        "\n",
        "\n",
        "def kfold_mean_encode(fold: int, n_col : int = 3) -> pd.DataFrame:\n",
        "  \"\"\"\n",
        "  fold num folds\n",
        "  n_col: 1-3 count features make for test ['nom_3', 'nom_5', 'ord_3']\n",
        "  ---\n",
        "  34 min for one fold\n",
        "  \"\"\"\n",
        "  \n",
        "  df = pd.read_csv(os.path.join(PATH, 'train_folds.csv'))\n",
        "  df_test = pd.read_csv(os.path.join(PATH, 'test.csv'))\n",
        "\n",
        "  if n_col == 3:\n",
        "    col = ['nom_3', 'nom_5', 'ord_3']\n",
        "  elif n_col == 2:\n",
        "    col = ['nom_3', 'ord_3']  \n",
        "  else:\n",
        "    col = 'nom_3'   \n",
        " \n",
        "  for f in range(fold):\n",
        "    print(f'Fold: {f}')\n",
        "    temp_df = df[df.kfold != f]\n",
        "    columns = [f'{f}_mean_num{n_col}' for f in range(fold)]    \n",
        "    target = dict(temp_df.groupby(col)['target'].agg('mean'))\n",
        "    if col == 'nom_3':  \n",
        "      df.loc[df.kfold != f, f'{f}_mean_num{n_col}'] = df.loc[df.kfold != f, col].map(target)\n",
        "      df_test[f'{f}_mean_num{n_col}'] = df_test.nom_3.map(target)   \n",
        "    else:          \n",
        "      for i in tqdm(temp_df.id.values):\n",
        "        key = tuple(df.loc[df.id == i, col].values[0])        \n",
        "        val = target[key]        \n",
        "        df.loc[df.id == i, f'{f}_mean_num{n_col}'] = val\n",
        "      #test      \n",
        "      df_test = addmean_to_test(df_test, target, col, f, n_col)    \n",
        "  df, df_test = mean_fold_target(df, df_test, columns) \n",
        "  return df, df_test\n",
        "\n",
        "def add_noise(series, noise_level):\n",
        "  return series * (1 + noise_level * np.random.randn(len(series)))\n",
        "\n",
        "def ol_encode(trn_series=None, \n",
        "                  tst_series=None, \n",
        "                  target=None, \n",
        "                  min_samples_leaf=1, \n",
        "                  smoothing=1,\n",
        "                  noise_level=0):\n",
        "  \"\"\"\n",
        "  Smoothing is computed like in the following paper by Daniele Micci-Barreca\n",
        "  https://kaggle2.blob.core.windows.net/forum-message-attachments/225952/7441/high%20cardinality%20categoricals.pdf\n",
        "  trn_series : training categorical feature as a pd.Series\n",
        "  tst_series : test categorical feature as a pd.Series\n",
        "  target : target data as a pd.Series\n",
        "  min_samples_leaf (int) : minimum samples to take category average into account\n",
        "  smoothing (int) : smoothing effect to balance categorical average vs prior  \n",
        "  \"\"\" \n",
        "  assert len(trn_series) == len(target)\n",
        "  assert trn_series.name == tst_series.name\n",
        "  temp = pd.concat([trn_series, target], axis=1)\n",
        "  # Compute target mean \n",
        "  averages = temp.groupby(by=trn_series.name)[target.name].agg([\"mean\", \"count\"])\n",
        "  # Compute smoothing\n",
        "  smoothing = 1 / (1 + np.exp(-(averages[\"count\"] - min_samples_leaf) / smoothing))\n",
        "  # Apply average function to all target data\n",
        "  prior = target.mean()\n",
        "  # The bigger the count the less full_avg is taken into account\n",
        "  averages[target.name] = prior * (1 - smoothing) + averages[\"mean\"] * smoothing\n",
        "  averages.drop([\"mean\", \"count\"], axis=1, inplace=True)\n",
        "  # Apply averages to trn and tst series\n",
        "  ft_trn_series = pd.merge(\n",
        "      trn_series.to_frame(trn_series.name),\n",
        "      averages.reset_index().rename(columns={'index': target.name, target.name: 'average'}),\n",
        "      on=trn_series.name,\n",
        "      how='left')['average'].rename(trn_series.name + '_mean').fillna(prior)\n",
        "  # pd.merge does not keep the index so restore it\n",
        "  ft_trn_series.index = trn_series.index \n",
        "  ft_tst_series = pd.merge(\n",
        "      tst_series.to_frame(tst_series.name),\n",
        "      averages.reset_index().rename(columns={'index': target.name, target.name: 'average'}),\n",
        "      on=tst_series.name,\n",
        "      how='left')['average'].rename(trn_series.name + '_mean').fillna(prior)\n",
        "  # pd.merge does not keep the index so restore it\n",
        "  ft_tst_series.index = tst_series.index\n",
        "  return add_noise(ft_trn_series, noise_level), add_noise(ft_tst_series, noise_level)\n",
        "\n",
        "\n",
        "def cyclic_feature(data: pd.DataFrame)->None:\n",
        "  \"\"\"\n",
        "  encode cycler features\n",
        "  day   - sin\n",
        "  month - cos  \n",
        "  \"\"\"\n",
        "  col = ['day', 'month']  \n",
        "  for c in col:\n",
        "    if c == 'day':\n",
        "      data[f'sin_{c}'] = np.sin((2 *np.pi * data[c]) / (data[c].max()))\n",
        "    else:\n",
        "      data[f'cos_{c}'] = np.cos((2 *np.pi * data[c]) / (data[c].max()))\n",
        "  data.drop(col, axis = 1, inplace = True)\n",
        "\n",
        "def target_encode(data:pd.DataFrame)->None:\n",
        "    \"\"\"\n",
        "    data full train + test\n",
        "    col = nom_1\n",
        "    \"\"\"\n",
        "    target = dict(data[data.target != 999].groupby('nom_1')['target'].agg('mean'))\n",
        "    data.loc[:, 'nom_1'] = data.nom_1.map(target)    \n",
        "\n",
        "def features_encode(\n",
        "                    data: pd.DataFrame,\n",
        "                    num_features: int = 1,\n",
        "                    cyclic : bool = True,\n",
        "                    target : bool = True,\n",
        "                    ol : bool = False,\n",
        "                    drop : bool = False,\n",
        "                    saved: bool = True\n",
        "                    ) -> pd.DataFrame:\n",
        "  \n",
        "    \"\"\"\n",
        "    data used if (target = True) another we used saved data\n",
        "      one col\n",
        "      three col\n",
        "\n",
        "    saved if True load saved data with kfold mean else train\n",
        "\n",
        "    1.target encode\n",
        "        sample test country nom_1\n",
        "    2.cyclic features [day, month]\n",
        "    3.k_fold target\n",
        "        sample test country nom_3\n",
        "            v1 no drop\n",
        "            v2 drop by features\n",
        "    4.one_hot default best scores in run.py\n",
        "\n",
        "    5.olivier, https://www.kaggle.com/ogrellier/python-target-encoding-for-categorical-features    \n",
        "\n",
        "    \n",
        "    how works\n",
        "    1. (target or ol) + cycler -> target mean\n",
        "      if ol no drop True\n",
        "    2. target and ol == False, 1 or num + cycler -> kfold mean\n",
        "    \n",
        "    \"\"\"\n",
        "\n",
        "    if target:\n",
        "      print('target')\n",
        "      # no drop nom_1\n",
        "      if drop:\n",
        "        raise Exception('No use drop this param, target = True')\n",
        "      target_encode(data)\n",
        "      add_col = ['nom_1']\n",
        "    elif ol:\n",
        "      print('oll')\n",
        "      if drop:\n",
        "        raise Exception('No use drop this param, ol = True')\n",
        "      name = 'mean_oltarget'\n",
        "      train, test = data[data.target != 999], data[data.target == 999]      \n",
        "      trn, sub = ol_encode(train[\"nom_3\"], \n",
        "                               test[\"nom_3\"], \n",
        "                               train.target, \n",
        "                               min_samples_leaf=100,\n",
        "                               smoothing=10,\n",
        "                               noise_level=0.01)\n",
        "      train.loc[:, name] = trn\n",
        "      test.loc[:, name] = sub\n",
        "      data = pd.concat([\n",
        "                        train, test\n",
        "                        ])\n",
        "      data.drop(\"nom_3\", axis = 1, inplace=True) \n",
        "      add_col = ['mean_oltarget']           \n",
        "    else:\n",
        "      print('num')\n",
        "      # load saved data kfold mean target\n",
        "      if num_features == 1:\n",
        "        # ['nom_3']\n",
        "        if saved:\n",
        "          df = pd.read_csv(PATH_KFMEAN_ONECOL_TRAIN)\n",
        "          df_test = pd.read_csv(PATH_KFMEAN_ONECOL_TEST)\n",
        "        else:\n",
        "          df, df_test = kfold_mean_encode(4, 1) \n",
        "\n",
        "      else:\n",
        "        if saved:\n",
        "          # ['nom_3', 'nom_5', 'ord_3']   \n",
        "          df = pd.read_csv(PATH_KFMEAN_TRAIN)\n",
        "          df_test = pd.read_csv(PATH_KFMEAN_TEST) \n",
        "        else:\n",
        "          df, df_test = kfold_mean_encode(4)      \n",
        "      df_test['target'] = 999\n",
        "      data = pd.concat([\n",
        "                        df, df_test\n",
        "                        ]) \n",
        "      add_col = ['mean_fold_target']   \n",
        "    if cyclic:      \n",
        "      cyclic_feature(data)     \n",
        "\n",
        "    if drop:\n",
        "      if num_features == 1:\n",
        "        col =['nom_3']        \n",
        "      else:\n",
        "        col = ['nom_3', 'nom_5', 'ord_3']\n",
        "      data.drop(col, axis=1, inplace=True)  \n",
        "    \n",
        "    #return correct col to lebel encode\n",
        "    # if target nom_1\n",
        "    # if ol mean_oltarget\n",
        "    # other mean_fold_target\n",
        "    col = ['sin_day',\t'cos_month', 'target', 'id', 'kfold'] + add_col \n",
        "    return data, col\n",
        "\n",
        "\n",
        "def make_data()->[pd.DataFrame, np.array]:\n",
        "  \"\"\"\n",
        "  loads data, and merge train&test \n",
        "  \"\"\"\n",
        "\n",
        "  df = pd.read_csv(os.path.join(PATH, 'train_folds.csv'))\n",
        "  df_test = pd.read_csv(os.path.join(PATH, 'test.csv'))\n",
        "  df_test['target'] = 999\n",
        "  #col = [c for c in df.columns if c not in ['id', 'target', 'kfold']]\n",
        "  # in test ValueError: Found unknown categories ['a9bf3dc47', '1f0a80e1d', '2be51c868', 'ec337ce4c'] in column 13 during transform\n",
        "  # we need merge data with test for ohe\n",
        "  data = pd.concat([\n",
        "                  df, df_test\n",
        "                  ])\n",
        "  return data\n",
        "\n",
        "def encoder_func(encode, data: pd.DataFrame, tr:pd.DataFrame, vl:pd.DataFrame,  col:np.array)-> [pd.DataFrame, pd.DataFrame]:\n",
        "  \"\"\"\n",
        "  data: all data train and test\n",
        "  tr and vl this train without drop col\n",
        "  col: array col to encode\n",
        "\n",
        "  data not return change test\n",
        "  return encode tr, vl\n",
        "  \"\"\"\n",
        "  if type(encode).__name__ == 'OneHotEncoder':\n",
        "    encode.fit(data[col])\n",
        "    ohe_tr = encode.transform(tr[col])\n",
        "    ohe_vl = encode.transform(vl[col])\n",
        "    return ohe_tr, ohe_vl\n",
        "  else:\n",
        "    for c in col:\n",
        "      encode.fit(data[c])      \n",
        "      tr.loc[:, c] = encode.transform(tr[c])\n",
        "      vl.loc[:, c] = encode.transform(vl[c])\n",
        "      # data.loc[df.target != 999, c] = lb.transform(data.loc[df.target != 999, c])\n",
        "      data.loc[data.target == 999, c] = encode.transform(data.loc[data.target == 999, c])\n",
        "    return tr[col], vl[col]\n",
        "\n",
        "def run(fold : int, data:pd.DataFrame, model_name: str, col_drop: np.array, name_param: str, encode) -> None:\n",
        "  \"\"\"\n",
        "  fold : num folds\n",
        "  data: train + test\n",
        "  col_drop : list col drop\n",
        "  save_name : names saved model\n",
        "  \n",
        "  \"\"\"  \n",
        "  col = [c for c in data.columns if c not in col_drop]\n",
        "  for c in col:\n",
        "    data.loc[:, c] = data[c].astype(str).fillna('NONE').values\n",
        "\n",
        "  addcol = list(set(col_drop)- set(['target', 'id', 'kfold']))  \n",
        "  \n",
        "  \n",
        "  df = data[data.target != 999]\n",
        "\n",
        "  tr = df[df.kfold != fold].reset_index(drop=True)\n",
        "  vl = df[df.kfold == fold].reset_index(drop=True)  \n",
        "\n",
        "  # encode\n",
        "  enc_tr, enc_vl = encoder_func(encode, data, tr, vl,  col)  \n",
        "\n",
        "  if len(addcol) > 0:\n",
        "    print('addcol', addcol)\n",
        "    \n",
        "    if type(encode).__name__ == 'OneHotEncoder':      \n",
        "      enc_tr = scipy.sparse.hstack((enc_tr, tr[addcol]))\n",
        "      enc_vl = scipy.sparse.hstack((enc_vl, vl[addcol]))               \n",
        "    else:      \n",
        "      enc_tr = pd.concat([enc_tr, tr[addcol]], axis = 1)\n",
        "      enc_vl = pd.concat([enc_vl, vl[addcol]], axis = 1)     \n",
        "        \n",
        "\n",
        "  #model\n",
        "  cls = MODELS[model_name].fit(enc_tr, tr.target.values)\n",
        "  pred = cls.predict_proba(enc_vl)[:, 1]\n",
        "  auc = sklearn.metrics.roc_auc_score(vl.target.values, pred)\n",
        "\n",
        "  joblib.dump(cls, os.path.join(PATH_MODEL,   f'{name_param}_model_{model_name}_{fold}_OHE.pkl'))\n",
        "  joblib.dump(encode, os.path.join(PATH_MODEL,   f'{name_param}_encode_{fold}_{model_name}.pkl'))\n",
        "  joblib.dump(col, os.path.join(PATH_MODEL,   f'{name_param}_col_{fold}_{model_name}.pkl'))\n",
        "\n",
        "  print(f'Fold: {fold}, auc: {auc}')\n",
        "\n",
        "def predict(df: pd.DataFrame, col_drop: np.array, model_name: str, name_param: str) -> np.array:\n",
        "  \"\"\"\n",
        "  df : test data  \n",
        "  col_drop : list col drop\n",
        "  \"\"\" \n",
        "  \n",
        "  addcol = list(set(col_drop)- set(['target', 'id', 'kfold']))  \n",
        "\n",
        "  predicts = None\n",
        "  for fold in range(4):\n",
        "    col = joblib.load(os.path.join(PATH_MODEL,   f'{name_param}_col_{fold}_{model_name}.pkl'))\n",
        "    encode = joblib.load(os.path.join(PATH_MODEL,   f'{name_param}_encode_{fold}_{model_name}.pkl'))\n",
        "    model = joblib.load(os.path.join(PATH_MODEL, f'{name_param}_model_{model_name}_{fold}_OHE.pkl'))\n",
        "    \n",
        "    if type(encode).__name__ == 'OneHotEncoder':\n",
        "      test = encode.transform(df[col])\n",
        "    else:\n",
        "      # change(encode) in encoder_func\n",
        "      test = df[col].astype(int)    \n",
        "    \n",
        "    if len(addcol) > 0:\n",
        "      if type(encode).__name__ == 'OneHotEncoder':\n",
        "        test = scipy.sparse.hstack((test, df[addcol]))\n",
        "      else:\n",
        "        test = pd.concat([test, df[addcol]], axis = 1)    \n",
        "    \n",
        "    pred = model.predict_proba(test)[:, 1]\n",
        "    if fold == 0:\n",
        "      predicts = pred\n",
        "    else:\n",
        "      predicts += pred\n",
        "  predicts /= 5\n",
        "  return predicts\n",
        "\n",
        "def submit(pred: np.array, model_name: str, name_param : str) -> None:\n",
        "  #submission (id, target)\n",
        "  df = pd.read_csv(os.path.join(PATH, 'test.csv'))\n",
        "  # model = joblib.load(os.path.join(PATH_MODEL, f'{name_param}_model_{model_name}_{0}_OHE.pkl'))\n",
        "  # model_name= type(model).__name__\n",
        "  idx = df['id'].values\n",
        "  sub = pd.DataFrame(\n",
        "      np.column_stack((idx, pred)),\n",
        "      columns=['id', 'target']\n",
        "      )\n",
        "  sub['id'] = sub['id'].astype(int)\n",
        "  print(sub.info())\n",
        "  sub.to_csv(os.path.join(PATH_SUB, f'{name_param}_{model_name}.csv'), index = False)\n",
        "\n",
        "\n",
        "if __name__ == \"__main__\":    \n",
        "  \"\"\" \n",
        "    data: pd.DataFrame, num_features: int = 1,  cyclic : bool = True, target : bool = True, ol : bool = False, drop : bool = False,  saved: bool = True\n",
        "\n",
        "  TYPE_ENCODE : 1 onehotencode\n",
        "              : 0 labelencode\n",
        "  \"\"\"\n",
        "  TYPE_ENCODE = 1\n",
        "  encode = [sklearn.preprocessing.OneHotEncoder() if TYPE_ENCODE == 1 else sklearn.preprocessing.LabelEncoder()][0]\n",
        "  param = {\n",
        "        #  'fold_mean_3_features_with_drop': [3, True, False, False, True, True], \n",
        "        #  'fold_mean_1_features_with_drop': [1, True, False, False, True, True], \n",
        "         'fold_mean_3_features'          : [3, True, False, False, False, True], \n",
        "         'fold_mean_1_features'          : [1, True, False, False, False, True],\n",
        "         'target_features'               : [1, True, True, False, False, True], \n",
        "         'oliver_features'               : [1, True, False, True, False, True],\n",
        "         'default'                       : []\n",
        "         }\n",
        "\n",
        "  MODELS = {\n",
        "    # 'catboost': CatBoostClassifier(iterations=2000,learning_rate=0.1,eval_metric = 'AUC', logging_level= 'Silent', early_stopping_rounds=100),\n",
        "    'lgbm'    : lgb.LGBMClassifier(max_depth=-1, n_estimators=2000, learning_rate=0.01,verbose =0, num_leaves=2**8-1, objective='binary', n_jobs=-1),\n",
        "    # 'LR'      : LogisticRegression()\n",
        "    }  \n",
        "  \n",
        " \n",
        "  for model_name in MODELS.keys():\n",
        "    print(f'Model to train: {model_name}')   \n",
        "    print(type(encode).__name__) \n",
        "    for k in param.keys():\n",
        "      data_default = make_data()    \n",
        "      print('Load param: ', k) \n",
        "      if k == 'default':\n",
        "        col = ['target', 'id', 'kfold']\n",
        "        data = data_default.copy()\n",
        "      else:\n",
        "        data, col = features_encode(data_default, *param[k])\n",
        "      for i in range(4):      \n",
        "        run(i, data, model_name, col, k, encode)    \n",
        "      pred = predict(data[data.target == 999], col, model_name, k)\n",
        "      print('to Saved')\n",
        "      submit(pred, model_name, k)"
      ],
      "execution_count": null,
      "outputs": [
        {
          "output_type": "stream",
          "text": [
            "Writing run_logistic.py\n"
          ],
          "name": "stdout"
        }
      ]
    },
    {
      "cell_type": "code",
      "metadata": {
        "id": "wcbfuol7R7HA"
      },
      "source": [
        "%run run_logistic.py"
      ],
      "execution_count": null,
      "outputs": []
    },
    {
      "cell_type": "code",
      "metadata": {
        "id": "d0afY-fRwTqi",
        "colab": {
          "base_uri": "https://localhost:8080/",
          "height": 34
        },
        "outputId": "3baaf401-9e8a-4b5c-ad6d-4fa47602cf35"
      },
      "source": [
        "%%writefile run_rf_lb.py\n",
        "import os\n",
        "import pandas as pd\n",
        "import numpy as np\n",
        "import sklearn\n",
        "from config import PATH\n",
        "from sklearn.ensemble import RandomForestClassifier\n",
        "\n",
        "\n",
        "def run(fold):\n",
        "  df = pd.read_csv(os.path.join(PATH, 'train_folds.csv'))\n",
        "  col = [c for c in df.columns if c not in ['id', 'target', 'kfold']]\n",
        "  lb = sklearn.preprocessing.LabelEncoder()\n",
        "  for c in col:\n",
        "    df.loc[:, c] = df[c].astype(str).fillna('NONE').values\n",
        "  for c in col:\n",
        "    lb.fit(df[c])\n",
        "    df.loc[:, c] = lb.transform(df[c])\n",
        "  \n",
        "  tr = df[df.kfold != fold].reset_index(drop=True)\n",
        "  vl = df[df.kfold == fold].reset_index(drop=True)\n",
        "\n",
        "  model = RandomForestClassifier(n_jobs=-1)\n",
        "  model.fit(tr[col].values, tr.target.values)\n",
        "  pred = model.predict_proba(vl[col].values)[:, 1]\n",
        "  auc = sklearn.metrics.roc_auc_score(vl.target.values, pred)\n",
        "  print(f'Fold: {fold}, auc: {auc}')\n",
        "\n",
        "if __name__ == \"__main__\":\n",
        "  for i in range(4):\n",
        "    run(i)"
      ],
      "execution_count": null,
      "outputs": [
        {
          "output_type": "stream",
          "text": [
            "Overwriting run.py\n"
          ],
          "name": "stdout"
        }
      ]
    },
    {
      "cell_type": "code",
      "metadata": {
        "id": "NKDhorvAwAr9",
        "colab": {
          "base_uri": "https://localhost:8080/",
          "height": 85
        },
        "outputId": "21cae059-f6d2-482d-b9b2-b0de9ca5bd38"
      },
      "source": [
        "%run run_rf_lb.py"
      ],
      "execution_count": null,
      "outputs": [
        {
          "output_type": "stream",
          "text": [
            "Fold: 0, auc: 0.7349513595604344\n",
            "Fold: 1, auc: 0.739474611485918\n",
            "Fold: 2, auc: 0.7317704228285905\n",
            "Fold: 3, auc: 0.7349996560660726\n"
          ],
          "name": "stdout"
        }
      ]
    },
    {
      "cell_type": "code",
      "metadata": {
        "id": "L-IdzdbYo1pr",
        "colab": {
          "base_uri": "https://localhost:8080/",
          "height": 34
        },
        "outputId": "e757e869-a8b8-463e-98b2-3249de9425d9"
      },
      "source": [
        "%%writefile run_rf_svd.py\n",
        "import os\n",
        "import scipy\n",
        "import pandas as pd\n",
        "import numpy as np\n",
        "import sklearn\n",
        "from config import PATH\n",
        "from sklearn.ensemble import RandomForestClassifier\n",
        "\n",
        "\n",
        "def run(fold):\n",
        "  df = pd.read_csv(os.path.join(PATH, 'train_folds.csv'))\n",
        "  col = [c for c in df.columns if c not in ['id', 'target', 'kfold']]\n",
        "  for c in col:\n",
        "    df.loc[:, c] = df[c].astype(str).fillna('NONE').values\n",
        "  \n",
        "  tr = df[df.kfold != fold].reset_index(drop=True)\n",
        "  vl = df[df.kfold == fold].reset_index(drop=True)\n",
        "\n",
        "  ohe = sklearn.preprocessing.OneHotEncoder()\n",
        "  ohe.fit(df[col])\n",
        "\n",
        "  ohe_tr = ohe.transform(tr[col])\n",
        "  ohe_vl = ohe.transform(vl[col])\n",
        "\n",
        "  svd = sklearn.decomposition.TruncatedSVD(n_components=120)\n",
        "  #full fit\n",
        "  sparse = scipy.sparse.vstack((ohe_tr, ohe_vl))\n",
        "  svd.fit(sparse)\n",
        "\n",
        "  svd_tr = svd.transform(ohe_tr)\n",
        "  svd_vl = svd.transform(ohe_vl)\n",
        "\n",
        "\n",
        "  model = RandomForestClassifier(n_jobs=-1)\n",
        "  model.fit(svd_tr, tr.target.values)\n",
        "\n",
        "  pred = model.predict_proba(svd_vl)[:, 1]\n",
        "  auc = sklearn.metrics.roc_auc_score(vl.target.values, pred)\n",
        "  print(f'Fold: {fold}, auc: {auc}')\n",
        "\n",
        "if __name__ == \"__main__\":\n",
        "  for i in range(4):\n",
        "    run(i)"
      ],
      "execution_count": null,
      "outputs": [
        {
          "output_type": "stream",
          "text": [
            "Overwriting run_rf_svd.py\n"
          ],
          "name": "stdout"
        }
      ]
    },
    {
      "cell_type": "code",
      "metadata": {
        "id": "183G2aato1pR",
        "colab": {
          "base_uri": "https://localhost:8080/",
          "height": 85
        },
        "outputId": "2caa6314-0408-4f09-c679-f72b908282b3"
      },
      "source": [
        "%run run_rf_svd.py"
      ],
      "execution_count": null,
      "outputs": [
        {
          "output_type": "stream",
          "text": [
            "Fold: 0, auc: 0.7140494697945516\n",
            "Fold: 1, auc: 0.7163803016107895\n",
            "Fold: 2, auc: 0.711365908227454\n",
            "Fold: 3, auc: 0.7133773816989453\n"
          ],
          "name": "stdout"
        }
      ]
    },
    {
      "cell_type": "code",
      "metadata": {
        "id": "neyDog5_o1o3",
        "colab": {
          "base_uri": "https://localhost:8080/",
          "height": 34
        },
        "outputId": "22ee4bf0-b0bc-4282-bfb2-b2fdea8903e1"
      },
      "source": [
        "%%writefile run_xgb_lb.py\n",
        "import os\n",
        "import pandas as pd\n",
        "import numpy as np\n",
        "import sklearn\n",
        "from config import PATH\n",
        "import xgboost as xgb\n",
        "\n",
        "\n",
        "\n",
        "def run(fold):\n",
        "  df = pd.read_csv(os.path.join(PATH, 'train_folds.csv'))\n",
        "  col = [c for c in df.columns if c not in ['id', 'target', 'kfold']]\n",
        "  lb = sklearn.preprocessing.LabelEncoder()\n",
        "  for c in col:\n",
        "    df.loc[:, c] = df[c].astype(str).fillna('NONE').values\n",
        "\n",
        "  for c in col:\n",
        "    lb.fit(df[c])\n",
        "    df.loc[:, c] = lb.transform(df[c])\n",
        "  \n",
        "  tr = df[df.kfold != fold].reset_index(drop=True)\n",
        "  vl = df[df.kfold == fold].reset_index(drop=True)\n",
        "\n",
        "  model = xgb.XGBClassifier(\n",
        "      n_jobs=-1,\n",
        "      max_depth=7,\n",
        "      n_estimators=200\n",
        "      )\n",
        "\n",
        "  model.fit(tr[col].values, tr.target.values)\n",
        "  pred = model.predict_proba(vl[col].values)[:, 1]\n",
        "  auc = sklearn.metrics.roc_auc_score(vl.target.values, pred)\n",
        "  print(f'Fold: {fold}, auc: {auc}')\n",
        "\n",
        "if __name__ == \"__main__\":\n",
        "  for i in range(4):\n",
        "    run(i)\n"
      ],
      "execution_count": null,
      "outputs": [
        {
          "output_type": "stream",
          "text": [
            "Overwriting run.py\n"
          ],
          "name": "stdout"
        }
      ]
    },
    {
      "cell_type": "code",
      "metadata": {
        "id": "E4Hgmbrio1oX",
        "colab": {
          "base_uri": "https://localhost:8080/",
          "height": 85
        },
        "outputId": "901b5fc4-3db7-485a-f173-dc4956b08d7f"
      },
      "source": [
        "%run run_xgb_lb.py"
      ],
      "execution_count": null,
      "outputs": [
        {
          "output_type": "stream",
          "text": [
            "Fold: 0, auc: 0.769236282196185\n",
            "Fold: 1, auc: 0.7736887846589118\n",
            "Fold: 2, auc: 0.7688008102326341\n",
            "Fold: 3, auc: 0.7686728239254237\n"
          ],
          "name": "stdout"
        }
      ]
    }
  ]
}